{
 "cells": [
  {
   "cell_type": "markdown",
   "id": "9ee416cc",
   "metadata": {},
   "source": [
    "# Оценка результатов A/B-теста для web-магазина"
   ]
  },
  {
   "cell_type": "markdown",
   "id": "0ee763a6",
   "metadata": {},
   "source": [
    "## Введение"
   ]
  },
  {
   "cell_type": "markdown",
   "id": "0a268cc9",
   "metadata": {},
   "source": [
    "Совместно с отделом маркетинга интернет-магазина подготовлен список гипотез для увеличения выручки и получены результаты A/B-теста.  \n",
    "Требуется:  \n",
    "- приоритизировать гипотезы;  \n",
    "- проанализировать результаты теста. "
   ]
  },
  {
   "cell_type": "code",
   "execution_count": 1,
   "id": "7756f3c5",
   "metadata": {},
   "outputs": [],
   "source": [
    "import pandas as pd\n",
    "import numpy as np\n",
    "import plotly.express as px\n",
    "import matplotlib.pyplot as plt\n",
    "import scipy.stats as stats\n",
    "import datetime as dt\n",
    "\n",
    "import plotly.io as pio\n",
    "pio.renderers.default='notebook'"
   ]
  },
  {
   "cell_type": "code",
   "execution_count": 2,
   "id": "234d6ccc",
   "metadata": {},
   "outputs": [],
   "source": [
    "try:\n",
    "    hypothesis, orders, visitors = (\n",
    "        pd.read_csv('hypothesis.csv'),\n",
    "        pd.read_csv('orders.csv', parse_dates=['date']),\n",
    "        pd.read_csv('visitors.csv', parse_dates=['date'])    \n",
    "    )\n",
    "except FileNotFoundError:\n",
    "    hypothesis, orders, visitors = (\n",
    "        pd.read_csv('/datasets/hypothesis.csv'),\n",
    "        pd.read_csv('/datasets/orders.csv', parse_dates=['date']),\n",
    "        pd.read_csv('/datasets/visitors.csv', parse_dates=['date'])\n",
    "    )"
   ]
  },
  {
   "cell_type": "code",
   "execution_count": 3,
   "id": "345252d5",
   "metadata": {},
   "outputs": [
    {
     "name": "stdout",
     "output_type": "stream",
     "text": [
      "<class 'pandas.core.frame.DataFrame'>\n",
      "RangeIndex: 1197 entries, 0 to 1196\n",
      "Data columns (total 5 columns):\n",
      "transactionId    1197 non-null int64\n",
      "visitorId        1197 non-null int64\n",
      "date             1197 non-null datetime64[ns]\n",
      "revenue          1197 non-null int64\n",
      "group            1197 non-null object\n",
      "dtypes: datetime64[ns](1), int64(3), object(1)\n",
      "memory usage: 46.9+ KB\n"
     ]
    },
    {
     "data": {
      "text/html": [
       "<div>\n",
       "<style scoped>\n",
       "    .dataframe tbody tr th:only-of-type {\n",
       "        vertical-align: middle;\n",
       "    }\n",
       "\n",
       "    .dataframe tbody tr th {\n",
       "        vertical-align: top;\n",
       "    }\n",
       "\n",
       "    .dataframe thead th {\n",
       "        text-align: right;\n",
       "    }\n",
       "</style>\n",
       "<table border=\"1\" class=\"dataframe\">\n",
       "  <thead>\n",
       "    <tr style=\"text-align: right;\">\n",
       "      <th></th>\n",
       "      <th>transactionId</th>\n",
       "      <th>visitorId</th>\n",
       "      <th>date</th>\n",
       "      <th>revenue</th>\n",
       "      <th>group</th>\n",
       "    </tr>\n",
       "  </thead>\n",
       "  <tbody>\n",
       "    <tr>\n",
       "      <td>0</td>\n",
       "      <td>3667963787</td>\n",
       "      <td>3312258926</td>\n",
       "      <td>2019-08-15</td>\n",
       "      <td>1650</td>\n",
       "      <td>B</td>\n",
       "    </tr>\n",
       "    <tr>\n",
       "      <td>1</td>\n",
       "      <td>2804400009</td>\n",
       "      <td>3642806036</td>\n",
       "      <td>2019-08-15</td>\n",
       "      <td>730</td>\n",
       "      <td>B</td>\n",
       "    </tr>\n",
       "    <tr>\n",
       "      <td>2</td>\n",
       "      <td>2961555356</td>\n",
       "      <td>4069496402</td>\n",
       "      <td>2019-08-15</td>\n",
       "      <td>400</td>\n",
       "      <td>A</td>\n",
       "    </tr>\n",
       "    <tr>\n",
       "      <td>3</td>\n",
       "      <td>3797467345</td>\n",
       "      <td>1196621759</td>\n",
       "      <td>2019-08-15</td>\n",
       "      <td>9759</td>\n",
       "      <td>B</td>\n",
       "    </tr>\n",
       "    <tr>\n",
       "      <td>4</td>\n",
       "      <td>2282983706</td>\n",
       "      <td>2322279887</td>\n",
       "      <td>2019-08-15</td>\n",
       "      <td>2308</td>\n",
       "      <td>B</td>\n",
       "    </tr>\n",
       "  </tbody>\n",
       "</table>\n",
       "</div>"
      ],
      "text/plain": [
       "   transactionId   visitorId       date  revenue group\n",
       "0     3667963787  3312258926 2019-08-15     1650     B\n",
       "1     2804400009  3642806036 2019-08-15      730     B\n",
       "2     2961555356  4069496402 2019-08-15      400     A\n",
       "3     3797467345  1196621759 2019-08-15     9759     B\n",
       "4     2282983706  2322279887 2019-08-15     2308     B"
      ]
     },
     "execution_count": 3,
     "metadata": {},
     "output_type": "execute_result"
    }
   ],
   "source": [
    "orders.info()\n",
    "orders.head()"
   ]
  },
  {
   "cell_type": "code",
   "execution_count": 4,
   "id": "6d1fe33c",
   "metadata": {},
   "outputs": [
    {
     "name": "stdout",
     "output_type": "stream",
     "text": [
      "<class 'pandas.core.frame.DataFrame'>\n",
      "RangeIndex: 62 entries, 0 to 61\n",
      "Data columns (total 3 columns):\n",
      "date        62 non-null datetime64[ns]\n",
      "group       62 non-null object\n",
      "visitors    62 non-null int64\n",
      "dtypes: datetime64[ns](1), int64(1), object(1)\n",
      "memory usage: 1.6+ KB\n"
     ]
    },
    {
     "data": {
      "text/html": [
       "<div>\n",
       "<style scoped>\n",
       "    .dataframe tbody tr th:only-of-type {\n",
       "        vertical-align: middle;\n",
       "    }\n",
       "\n",
       "    .dataframe tbody tr th {\n",
       "        vertical-align: top;\n",
       "    }\n",
       "\n",
       "    .dataframe thead th {\n",
       "        text-align: right;\n",
       "    }\n",
       "</style>\n",
       "<table border=\"1\" class=\"dataframe\">\n",
       "  <thead>\n",
       "    <tr style=\"text-align: right;\">\n",
       "      <th></th>\n",
       "      <th>date</th>\n",
       "      <th>group</th>\n",
       "      <th>visitors</th>\n",
       "    </tr>\n",
       "  </thead>\n",
       "  <tbody>\n",
       "    <tr>\n",
       "      <td>0</td>\n",
       "      <td>2019-08-01</td>\n",
       "      <td>A</td>\n",
       "      <td>719</td>\n",
       "    </tr>\n",
       "    <tr>\n",
       "      <td>1</td>\n",
       "      <td>2019-08-02</td>\n",
       "      <td>A</td>\n",
       "      <td>619</td>\n",
       "    </tr>\n",
       "    <tr>\n",
       "      <td>2</td>\n",
       "      <td>2019-08-03</td>\n",
       "      <td>A</td>\n",
       "      <td>507</td>\n",
       "    </tr>\n",
       "    <tr>\n",
       "      <td>3</td>\n",
       "      <td>2019-08-04</td>\n",
       "      <td>A</td>\n",
       "      <td>717</td>\n",
       "    </tr>\n",
       "    <tr>\n",
       "      <td>4</td>\n",
       "      <td>2019-08-05</td>\n",
       "      <td>A</td>\n",
       "      <td>756</td>\n",
       "    </tr>\n",
       "  </tbody>\n",
       "</table>\n",
       "</div>"
      ],
      "text/plain": [
       "        date group  visitors\n",
       "0 2019-08-01     A       719\n",
       "1 2019-08-02     A       619\n",
       "2 2019-08-03     A       507\n",
       "3 2019-08-04     A       717\n",
       "4 2019-08-05     A       756"
      ]
     },
     "execution_count": 4,
     "metadata": {},
     "output_type": "execute_result"
    }
   ],
   "source": [
    "visitors.info()\n",
    "visitors.head()"
   ]
  },
  {
   "cell_type": "markdown",
   "id": "1ad9e0a2",
   "metadata": {},
   "source": [
    "В таблицах отсутствуют пропуски.<br>\n",
    "Типы данных соответствуют названиям колонок."
   ]
  },
  {
   "cell_type": "markdown",
   "id": "ba3a877a",
   "metadata": {},
   "source": [
    "## Часть 1. Приоритизация гипотез"
   ]
  },
  {
   "cell_type": "markdown",
   "id": "aecd4c43",
   "metadata": {},
   "source": [
    "Для приоритизации гипотез используем фреймворки ICE и RICE.  \n",
    "Выберем приоритетные гипотезы для каждого фреймворка и сравним результаты."
   ]
  },
  {
   "cell_type": "code",
   "execution_count": 5,
   "id": "d3d6a371",
   "metadata": {},
   "outputs": [
    {
     "data": {
      "text/html": [
       "<div>\n",
       "<style scoped>\n",
       "    .dataframe tbody tr th:only-of-type {\n",
       "        vertical-align: middle;\n",
       "    }\n",
       "\n",
       "    .dataframe tbody tr th {\n",
       "        vertical-align: top;\n",
       "    }\n",
       "\n",
       "    .dataframe thead th {\n",
       "        text-align: right;\n",
       "    }\n",
       "</style>\n",
       "<table border=\"1\" class=\"dataframe\">\n",
       "  <thead>\n",
       "    <tr style=\"text-align: right;\">\n",
       "      <th></th>\n",
       "      <th>Hypothesis</th>\n",
       "      <th>Reach</th>\n",
       "      <th>Impact</th>\n",
       "      <th>Confidence</th>\n",
       "      <th>Efforts</th>\n",
       "    </tr>\n",
       "  </thead>\n",
       "  <tbody>\n",
       "    <tr>\n",
       "      <td>0</td>\n",
       "      <td>Добавить два новых канала привлечения трафика, что позволит привлекать на 30% больше пользователей</td>\n",
       "      <td>3</td>\n",
       "      <td>10</td>\n",
       "      <td>8</td>\n",
       "      <td>6</td>\n",
       "    </tr>\n",
       "    <tr>\n",
       "      <td>1</td>\n",
       "      <td>Запустить собственную службу доставки, что сократит срок доставки заказов</td>\n",
       "      <td>2</td>\n",
       "      <td>5</td>\n",
       "      <td>4</td>\n",
       "      <td>10</td>\n",
       "    </tr>\n",
       "    <tr>\n",
       "      <td>2</td>\n",
       "      <td>Добавить блоки рекомендаций товаров на сайт интернет магазина, чтобы повысить конверсию и средний чек заказа</td>\n",
       "      <td>8</td>\n",
       "      <td>3</td>\n",
       "      <td>7</td>\n",
       "      <td>3</td>\n",
       "    </tr>\n",
       "    <tr>\n",
       "      <td>3</td>\n",
       "      <td>Изменить структура категорий, что увеличит конверсию, т.к. пользователи быстрее найдут нужный товар</td>\n",
       "      <td>8</td>\n",
       "      <td>3</td>\n",
       "      <td>3</td>\n",
       "      <td>8</td>\n",
       "    </tr>\n",
       "    <tr>\n",
       "      <td>4</td>\n",
       "      <td>Изменить цвет фона главной страницы, чтобы увеличить вовлеченность пользователей</td>\n",
       "      <td>3</td>\n",
       "      <td>1</td>\n",
       "      <td>1</td>\n",
       "      <td>1</td>\n",
       "    </tr>\n",
       "    <tr>\n",
       "      <td>5</td>\n",
       "      <td>Добавить страницу отзывов клиентов о магазине, что позволит увеличить количество заказов</td>\n",
       "      <td>3</td>\n",
       "      <td>2</td>\n",
       "      <td>2</td>\n",
       "      <td>3</td>\n",
       "    </tr>\n",
       "    <tr>\n",
       "      <td>6</td>\n",
       "      <td>Показать на главной странице баннеры с актуальными акциями и распродажами, чтобы увеличить конверсию</td>\n",
       "      <td>5</td>\n",
       "      <td>3</td>\n",
       "      <td>8</td>\n",
       "      <td>3</td>\n",
       "    </tr>\n",
       "    <tr>\n",
       "      <td>7</td>\n",
       "      <td>Добавить форму подписки на все основные страницы, чтобы собрать базу клиентов для email-рассылок</td>\n",
       "      <td>10</td>\n",
       "      <td>7</td>\n",
       "      <td>8</td>\n",
       "      <td>5</td>\n",
       "    </tr>\n",
       "    <tr>\n",
       "      <td>8</td>\n",
       "      <td>Запустить акцию, дающую скидку на товар в день рождения</td>\n",
       "      <td>1</td>\n",
       "      <td>9</td>\n",
       "      <td>9</td>\n",
       "      <td>5</td>\n",
       "    </tr>\n",
       "  </tbody>\n",
       "</table>\n",
       "</div>"
      ],
      "text/plain": [
       "                                                                                                     Hypothesis  \\\n",
       "0            Добавить два новых канала привлечения трафика, что позволит привлекать на 30% больше пользователей   \n",
       "1                                     Запустить собственную службу доставки, что сократит срок доставки заказов   \n",
       "2  Добавить блоки рекомендаций товаров на сайт интернет магазина, чтобы повысить конверсию и средний чек заказа   \n",
       "3           Изменить структура категорий, что увеличит конверсию, т.к. пользователи быстрее найдут нужный товар   \n",
       "4                              Изменить цвет фона главной страницы, чтобы увеличить вовлеченность пользователей   \n",
       "5                      Добавить страницу отзывов клиентов о магазине, что позволит увеличить количество заказов   \n",
       "6          Показать на главной странице баннеры с актуальными акциями и распродажами, чтобы увеличить конверсию   \n",
       "7              Добавить форму подписки на все основные страницы, чтобы собрать базу клиентов для email-рассылок   \n",
       "8                                                       Запустить акцию, дающую скидку на товар в день рождения   \n",
       "\n",
       "   Reach  Impact  Confidence  Efforts  \n",
       "0      3      10           8        6  \n",
       "1      2       5           4       10  \n",
       "2      8       3           7        3  \n",
       "3      8       3           3        8  \n",
       "4      3       1           1        1  \n",
       "5      3       2           2        3  \n",
       "6      5       3           8        3  \n",
       "7     10       7           8        5  \n",
       "8      1       9           9        5  "
      ]
     },
     "execution_count": 5,
     "metadata": {},
     "output_type": "execute_result"
    }
   ],
   "source": [
    "pd.options.display.max_colwidth = 150\n",
    "hypothesis"
   ]
  },
  {
   "cell_type": "code",
   "execution_count": 6,
   "id": "1ca8fb8b",
   "metadata": {
    "scrolled": false
   },
   "outputs": [
    {
     "data": {
      "text/html": [
       "<div>\n",
       "<style scoped>\n",
       "    .dataframe tbody tr th:only-of-type {\n",
       "        vertical-align: middle;\n",
       "    }\n",
       "\n",
       "    .dataframe tbody tr th {\n",
       "        vertical-align: top;\n",
       "    }\n",
       "\n",
       "    .dataframe thead th {\n",
       "        text-align: right;\n",
       "    }\n",
       "</style>\n",
       "<table border=\"1\" class=\"dataframe\">\n",
       "  <thead>\n",
       "    <tr style=\"text-align: right;\">\n",
       "      <th></th>\n",
       "      <th>Hypothesis</th>\n",
       "      <th>ICE</th>\n",
       "      <th>RICE</th>\n",
       "    </tr>\n",
       "  </thead>\n",
       "  <tbody>\n",
       "    <tr>\n",
       "      <td>8</td>\n",
       "      <td>Запустить акцию, дающую скидку на товар в день рождения</td>\n",
       "      <td>16.20</td>\n",
       "      <td>16.2</td>\n",
       "    </tr>\n",
       "    <tr>\n",
       "      <td>0</td>\n",
       "      <td>Добавить два новых канала привлечения трафика, что позволит привлекать на 30% больше пользователей</td>\n",
       "      <td>13.33</td>\n",
       "      <td>40.0</td>\n",
       "    </tr>\n",
       "    <tr>\n",
       "      <td>7</td>\n",
       "      <td>Добавить форму подписки на все основные страницы, чтобы собрать базу клиентов для email-рассылок</td>\n",
       "      <td>11.20</td>\n",
       "      <td>112.0</td>\n",
       "    </tr>\n",
       "    <tr>\n",
       "      <td>6</td>\n",
       "      <td>Показать на главной странице баннеры с актуальными акциями и распродажами, чтобы увеличить конверсию</td>\n",
       "      <td>8.00</td>\n",
       "      <td>40.0</td>\n",
       "    </tr>\n",
       "    <tr>\n",
       "      <td>2</td>\n",
       "      <td>Добавить блоки рекомендаций товаров на сайт интернет магазина, чтобы повысить конверсию и средний чек заказа</td>\n",
       "      <td>7.00</td>\n",
       "      <td>56.0</td>\n",
       "    </tr>\n",
       "    <tr>\n",
       "      <td>1</td>\n",
       "      <td>Запустить собственную службу доставки, что сократит срок доставки заказов</td>\n",
       "      <td>2.00</td>\n",
       "      <td>4.0</td>\n",
       "    </tr>\n",
       "    <tr>\n",
       "      <td>5</td>\n",
       "      <td>Добавить страницу отзывов клиентов о магазине, что позволит увеличить количество заказов</td>\n",
       "      <td>1.33</td>\n",
       "      <td>4.0</td>\n",
       "    </tr>\n",
       "    <tr>\n",
       "      <td>3</td>\n",
       "      <td>Изменить структура категорий, что увеличит конверсию, т.к. пользователи быстрее найдут нужный товар</td>\n",
       "      <td>1.12</td>\n",
       "      <td>9.0</td>\n",
       "    </tr>\n",
       "    <tr>\n",
       "      <td>4</td>\n",
       "      <td>Изменить цвет фона главной страницы, чтобы увеличить вовлеченность пользователей</td>\n",
       "      <td>1.00</td>\n",
       "      <td>3.0</td>\n",
       "    </tr>\n",
       "  </tbody>\n",
       "</table>\n",
       "</div>"
      ],
      "text/plain": [
       "                                                                                                     Hypothesis  \\\n",
       "8                                                       Запустить акцию, дающую скидку на товар в день рождения   \n",
       "0            Добавить два новых канала привлечения трафика, что позволит привлекать на 30% больше пользователей   \n",
       "7              Добавить форму подписки на все основные страницы, чтобы собрать базу клиентов для email-рассылок   \n",
       "6          Показать на главной странице баннеры с актуальными акциями и распродажами, чтобы увеличить конверсию   \n",
       "2  Добавить блоки рекомендаций товаров на сайт интернет магазина, чтобы повысить конверсию и средний чек заказа   \n",
       "1                                     Запустить собственную службу доставки, что сократит срок доставки заказов   \n",
       "5                      Добавить страницу отзывов клиентов о магазине, что позволит увеличить количество заказов   \n",
       "3           Изменить структура категорий, что увеличит конверсию, т.к. пользователи быстрее найдут нужный товар   \n",
       "4                              Изменить цвет фона главной страницы, чтобы увеличить вовлеченность пользователей   \n",
       "\n",
       "     ICE   RICE  \n",
       "8  16.20   16.2  \n",
       "0  13.33   40.0  \n",
       "7  11.20  112.0  \n",
       "6   8.00   40.0  \n",
       "2   7.00   56.0  \n",
       "1   2.00    4.0  \n",
       "5   1.33    4.0  \n",
       "3   1.12    9.0  \n",
       "4   1.00    3.0  "
      ]
     },
     "metadata": {},
     "output_type": "display_data"
    },
    {
     "data": {
      "text/html": [
       "<div>\n",
       "<style scoped>\n",
       "    .dataframe tbody tr th:only-of-type {\n",
       "        vertical-align: middle;\n",
       "    }\n",
       "\n",
       "    .dataframe tbody tr th {\n",
       "        vertical-align: top;\n",
       "    }\n",
       "\n",
       "    .dataframe thead th {\n",
       "        text-align: right;\n",
       "    }\n",
       "</style>\n",
       "<table border=\"1\" class=\"dataframe\">\n",
       "  <thead>\n",
       "    <tr style=\"text-align: right;\">\n",
       "      <th></th>\n",
       "      <th>Hypothesis</th>\n",
       "      <th>RICE</th>\n",
       "      <th>ICE</th>\n",
       "    </tr>\n",
       "  </thead>\n",
       "  <tbody>\n",
       "    <tr>\n",
       "      <td>7</td>\n",
       "      <td>Добавить форму подписки на все основные страницы, чтобы собрать базу клиентов для email-рассылок</td>\n",
       "      <td>112.0</td>\n",
       "      <td>11.20</td>\n",
       "    </tr>\n",
       "    <tr>\n",
       "      <td>2</td>\n",
       "      <td>Добавить блоки рекомендаций товаров на сайт интернет магазина, чтобы повысить конверсию и средний чек заказа</td>\n",
       "      <td>56.0</td>\n",
       "      <td>7.00</td>\n",
       "    </tr>\n",
       "    <tr>\n",
       "      <td>0</td>\n",
       "      <td>Добавить два новых канала привлечения трафика, что позволит привлекать на 30% больше пользователей</td>\n",
       "      <td>40.0</td>\n",
       "      <td>13.33</td>\n",
       "    </tr>\n",
       "    <tr>\n",
       "      <td>6</td>\n",
       "      <td>Показать на главной странице баннеры с актуальными акциями и распродажами, чтобы увеличить конверсию</td>\n",
       "      <td>40.0</td>\n",
       "      <td>8.00</td>\n",
       "    </tr>\n",
       "    <tr>\n",
       "      <td>8</td>\n",
       "      <td>Запустить акцию, дающую скидку на товар в день рождения</td>\n",
       "      <td>16.2</td>\n",
       "      <td>16.20</td>\n",
       "    </tr>\n",
       "    <tr>\n",
       "      <td>3</td>\n",
       "      <td>Изменить структура категорий, что увеличит конверсию, т.к. пользователи быстрее найдут нужный товар</td>\n",
       "      <td>9.0</td>\n",
       "      <td>1.12</td>\n",
       "    </tr>\n",
       "    <tr>\n",
       "      <td>1</td>\n",
       "      <td>Запустить собственную службу доставки, что сократит срок доставки заказов</td>\n",
       "      <td>4.0</td>\n",
       "      <td>2.00</td>\n",
       "    </tr>\n",
       "    <tr>\n",
       "      <td>5</td>\n",
       "      <td>Добавить страницу отзывов клиентов о магазине, что позволит увеличить количество заказов</td>\n",
       "      <td>4.0</td>\n",
       "      <td>1.33</td>\n",
       "    </tr>\n",
       "    <tr>\n",
       "      <td>4</td>\n",
       "      <td>Изменить цвет фона главной страницы, чтобы увеличить вовлеченность пользователей</td>\n",
       "      <td>3.0</td>\n",
       "      <td>1.00</td>\n",
       "    </tr>\n",
       "  </tbody>\n",
       "</table>\n",
       "</div>"
      ],
      "text/plain": [
       "                                                                                                     Hypothesis  \\\n",
       "7              Добавить форму подписки на все основные страницы, чтобы собрать базу клиентов для email-рассылок   \n",
       "2  Добавить блоки рекомендаций товаров на сайт интернет магазина, чтобы повысить конверсию и средний чек заказа   \n",
       "0            Добавить два новых канала привлечения трафика, что позволит привлекать на 30% больше пользователей   \n",
       "6          Показать на главной странице баннеры с актуальными акциями и распродажами, чтобы увеличить конверсию   \n",
       "8                                                       Запустить акцию, дающую скидку на товар в день рождения   \n",
       "3           Изменить структура категорий, что увеличит конверсию, т.к. пользователи быстрее найдут нужный товар   \n",
       "1                                     Запустить собственную службу доставки, что сократит срок доставки заказов   \n",
       "5                      Добавить страницу отзывов клиентов о магазине, что позволит увеличить количество заказов   \n",
       "4                              Изменить цвет фона главной страницы, чтобы увеличить вовлеченность пользователей   \n",
       "\n",
       "    RICE    ICE  \n",
       "7  112.0  11.20  \n",
       "2   56.0   7.00  \n",
       "0   40.0  13.33  \n",
       "6   40.0   8.00  \n",
       "8   16.2  16.20  \n",
       "3    9.0   1.12  \n",
       "1    4.0   2.00  \n",
       "5    4.0   1.33  \n",
       "4    3.0   1.00  "
      ]
     },
     "metadata": {},
     "output_type": "display_data"
    }
   ],
   "source": [
    "hypothesis['ICE'] = round(hypothesis['Impact'] * hypothesis['Confidence'] / hypothesis['Efforts'], 2)\n",
    "hypothesis['RICE'] = round(hypothesis['Reach'] * hypothesis['Impact'] * hypothesis['Confidence'] / hypothesis['Efforts'], 2)\n",
    "\n",
    "display(hypothesis[['Hypothesis', 'ICE', 'RICE']].sort_values(by='ICE', ascending=False))\n",
    "display(hypothesis[['Hypothesis', 'RICE', 'ICE']].sort_values(by='RICE', ascending=False))"
   ]
  },
  {
   "cell_type": "markdown",
   "id": "61c434b0",
   "metadata": {},
   "source": [
    "Приоритизация гипотез при применении RICE отличается от ICE, т.к. к рассмотрению принимается охват.<br><br>\n",
    "<b>Выводы:</b><br>\n",
    "- Для ICE лидируют:\n",
    "    - **8** - Запустить акцию, дающую скидку на товар в день рождения;\n",
    "    - **0** - Добавить два новых канала привлечения трафика, что позволит привлекать на 30% больше пользователей;\n",
    "    - **7** - Добавить форму подписки на все основные страницы, чтобы собрать базу клиентов для email-рассылок.\n",
    "- Для RICE лидируют:\n",
    "    - **7** - Добавить форму подписки на все основные страницы, чтобы собрать базу клиентов для email-рассылок;\n",
    "    - **2** - Добавить блоки рекомендаций товаров на сайт интернет магазина, чтобы повысить конверсию и средний чек заказа;\n",
    "    - **0** - Добавить два новых канала привлечения трафика, что позволит привлекать на 30% больше пользователей.\t"
   ]
  },
  {
   "cell_type": "markdown",
   "id": "fc760ab8",
   "metadata": {},
   "source": [
    "## Часть 2. Анализ A/B-теста"
   ]
  },
  {
   "cell_type": "code",
   "execution_count": 7,
   "id": "6fb1c313",
   "metadata": {},
   "outputs": [
    {
     "data": {
      "text/html": [
       "<div>\n",
       "<style scoped>\n",
       "    .dataframe tbody tr th:only-of-type {\n",
       "        vertical-align: middle;\n",
       "    }\n",
       "\n",
       "    .dataframe tbody tr th {\n",
       "        vertical-align: top;\n",
       "    }\n",
       "\n",
       "    .dataframe thead th {\n",
       "        text-align: right;\n",
       "    }\n",
       "</style>\n",
       "<table border=\"1\" class=\"dataframe\">\n",
       "  <thead>\n",
       "    <tr style=\"text-align: right;\">\n",
       "      <th></th>\n",
       "      <th>transactionId</th>\n",
       "      <th>visitorId</th>\n",
       "      <th>date</th>\n",
       "      <th>revenue</th>\n",
       "      <th>group</th>\n",
       "    </tr>\n",
       "  </thead>\n",
       "  <tbody>\n",
       "    <tr>\n",
       "      <td>0</td>\n",
       "      <td>3667963787</td>\n",
       "      <td>3312258926</td>\n",
       "      <td>2019-08-15</td>\n",
       "      <td>1650</td>\n",
       "      <td>B</td>\n",
       "    </tr>\n",
       "    <tr>\n",
       "      <td>1</td>\n",
       "      <td>2804400009</td>\n",
       "      <td>3642806036</td>\n",
       "      <td>2019-08-15</td>\n",
       "      <td>730</td>\n",
       "      <td>B</td>\n",
       "    </tr>\n",
       "    <tr>\n",
       "      <td>2</td>\n",
       "      <td>2961555356</td>\n",
       "      <td>4069496402</td>\n",
       "      <td>2019-08-15</td>\n",
       "      <td>400</td>\n",
       "      <td>A</td>\n",
       "    </tr>\n",
       "    <tr>\n",
       "      <td>3</td>\n",
       "      <td>3797467345</td>\n",
       "      <td>1196621759</td>\n",
       "      <td>2019-08-15</td>\n",
       "      <td>9759</td>\n",
       "      <td>B</td>\n",
       "    </tr>\n",
       "    <tr>\n",
       "      <td>4</td>\n",
       "      <td>2282983706</td>\n",
       "      <td>2322279887</td>\n",
       "      <td>2019-08-15</td>\n",
       "      <td>2308</td>\n",
       "      <td>B</td>\n",
       "    </tr>\n",
       "  </tbody>\n",
       "</table>\n",
       "</div>"
      ],
      "text/plain": [
       "   transactionId   visitorId       date  revenue group\n",
       "0     3667963787  3312258926 2019-08-15     1650     B\n",
       "1     2804400009  3642806036 2019-08-15      730     B\n",
       "2     2961555356  4069496402 2019-08-15      400     A\n",
       "3     3797467345  1196621759 2019-08-15     9759     B\n",
       "4     2282983706  2322279887 2019-08-15     2308     B"
      ]
     },
     "execution_count": 7,
     "metadata": {},
     "output_type": "execute_result"
    }
   ],
   "source": [
    "orders.head()"
   ]
  },
  {
   "cell_type": "markdown",
   "id": "321c85da",
   "metadata": {},
   "source": [
    "### Группы"
   ]
  },
  {
   "cell_type": "code",
   "execution_count": 8,
   "id": "6d71e0d2",
   "metadata": {},
   "outputs": [
    {
     "name": "stdout",
     "output_type": "stream",
     "text": [
      "Количество групп: 2\n"
     ]
    }
   ],
   "source": [
    "print('Количество групп:', len(list(orders['group'].unique())))"
   ]
  },
  {
   "cell_type": "markdown",
   "id": "f1356bd7",
   "metadata": {},
   "source": [
    "#### Размер групп"
   ]
  },
  {
   "cell_type": "markdown",
   "id": "aa1bf10b",
   "metadata": {},
   "source": [
    "Проверим разницу в группах."
   ]
  },
  {
   "cell_type": "code",
   "execution_count": 9,
   "id": "b53590a1",
   "metadata": {},
   "outputs": [
    {
     "name": "stdout",
     "output_type": "stream",
     "text": [
      "Размер группы A: 557.\n",
      "Размер группы B: 640.\n",
      "Разница: 83 записей или 12.97%.\n"
     ]
    }
   ],
   "source": [
    "a = orders.query('group == \"A\"').shape[0]\n",
    "b = orders.query('group == \"B\"').shape[0]\n",
    "print(f'Размер группы A: {a}.')\n",
    "print(f'Размер группы B: {b}.')\n",
    "print(f'Разница: {abs(a - b)} записей или {abs(round((1 - a / b) * 100, 2))}%.')"
   ]
  },
  {
   "cell_type": "markdown",
   "id": "d9101686",
   "metadata": {},
   "source": [
    "Группа A на 12.97% меньше группы B."
   ]
  },
  {
   "cell_type": "markdown",
   "id": "596b48d9",
   "metadata": {},
   "source": [
    "Группы разделены по чекам.\n",
    "Проверим пересечения по покупателям."
   ]
  },
  {
   "cell_type": "code",
   "execution_count": 10,
   "id": "d14650cf",
   "metadata": {
    "scrolled": true
   },
   "outputs": [
    {
     "name": "stdout",
     "output_type": "stream",
     "text": [
      "Общих visitorId в группах: 58\n"
     ]
    }
   ],
   "source": [
    "cross = set(orders.query('group == \"A\"')['visitorId']) & set(orders.query('group == \"B\"')['visitorId'])\n",
    "print(f'Общих visitorId в группах: {len(cross)}')"
   ]
  },
  {
   "cell_type": "markdown",
   "id": "e8d927ae",
   "metadata": {},
   "source": [
    "58 одинаковых `'visitorId'` нужно удалить из каждой группы, т.к. если покупатель видел различия в тестируемом, результат теста может быть искажён."
   ]
  },
  {
   "cell_type": "code",
   "execution_count": 11,
   "id": "4cccfe93",
   "metadata": {},
   "outputs": [],
   "source": [
    "orders.drop(orders[orders['visitorId'].isin(list(cross))].index, inplace=True)"
   ]
  },
  {
   "cell_type": "code",
   "execution_count": 12,
   "id": "ebf97f1e",
   "metadata": {},
   "outputs": [
    {
     "name": "stdout",
     "output_type": "stream",
     "text": [
      "Общих visitorId в группах: 0\n"
     ]
    }
   ],
   "source": [
    "cross = set(orders.query('group == \"A\"')['visitorId']) & set(orders.query('group == \"B\"')['visitorId'])\n",
    "print(f'Общих visitorId в группах: {len(cross)}')"
   ]
  },
  {
   "cell_type": "markdown",
   "id": "059e23b3",
   "metadata": {},
   "source": [
    "Общих `'visitorId'` не осталось.  \n",
    "Проверим размеры группы после их удаления."
   ]
  },
  {
   "cell_type": "code",
   "execution_count": 13,
   "id": "53b5ce86",
   "metadata": {},
   "outputs": [
    {
     "name": "stdout",
     "output_type": "stream",
     "text": [
      "Размер группы A: 445.\n",
      "Размер группы B: 528.\n",
      "Разница: 83 записей или 15.72%.\n"
     ]
    }
   ],
   "source": [
    "a = orders.query('group == \"A\"').groupby('visitorId').count().shape[0]\n",
    "b = orders.query('group == \"B\"').groupby('visitorId').count().shape[0]\n",
    "print(f'Размер группы A: {a}.')\n",
    "print(f'Размер группы B: {b}.')\n",
    "print(f'Разница: {abs(a - b)} записей или {abs(round((1 - a / b) * 100, 2))}%.')"
   ]
  },
  {
   "cell_type": "markdown",
   "id": "8c9ca70e",
   "metadata": {},
   "source": [
    "Группы различаются примерно так же, как и до удаления дублирующих пользователей."
   ]
  },
  {
   "cell_type": "markdown",
   "id": "cb782b1b",
   "metadata": {},
   "source": [
    "#### Временные интервалы проведения теста"
   ]
  },
  {
   "cell_type": "code",
   "execution_count": 14,
   "id": "b1ec96e5",
   "metadata": {
    "code_folding": [
     0
    ],
    "scrolled": true
   },
   "outputs": [
    {
     "name": "stdout",
     "output_type": "stream",
     "text": [
      "Дата начала теста: 2019-08-01\n",
      "Дата окончания теста: 2019-08-31\n",
      "\n",
      "Даты начала и конца теста для групп сходятся.\n"
     ]
    }
   ],
   "source": [
    "# даты начала и конца теста\n",
    "start_date = orders['date'].dt.date.min()\n",
    "stop_date = orders['date'].dt.date.max()\n",
    "\n",
    "start_date_a = orders.query('group == \"A\"')['date'].dt.date.min()\n",
    "stop_date_a = orders.query('group == \"A\"')['date'].dt.date.max()\n",
    "\n",
    "start_date_b = orders.query('group == \"B\"')['date'].dt.date.min()\n",
    "stop_date_b = orders.query('group == \"B\"')['date'].dt.date.max()\n",
    "\n",
    "\n",
    "print(f'Дата начала теста: {start_date}')\n",
    "print(f'Дата окончания теста: {stop_date}')\n",
    "print('')\n",
    "date_check = (\n",
    "    start_date == start_date_a\n",
    "    and start_date == start_date_b\n",
    "    and stop_date == stop_date_a\n",
    "    and stop_date == stop_date_b\n",
    ")\n",
    "if date_check:\n",
    "    print('Даты начала и конца теста для групп сходятся.')\n",
    "else:\n",
    "    print('Есть несоответствия с датах, требуется проверка.')"
   ]
  },
  {
   "cell_type": "markdown",
   "id": "075f8980",
   "metadata": {},
   "source": [
    "#### Число посетителей на дату"
   ]
  },
  {
   "cell_type": "code",
   "execution_count": 15,
   "id": "38bfb8b2",
   "metadata": {
    "code_folding": []
   },
   "outputs": [
    {
     "data": {
      "image/jpeg": "[encoded data removed]"
     },
     "metadata": {},
     "output_type": "display_data"
    }
   ],
   "source": [
    "# график динамики посетителей по дням\n",
    "fig = px.bar(visitors, x='date', y='visitors', color='group', barmode='group')\n",
    "fig.show('jpg')"
   ]
  },
  {
   "cell_type": "markdown",
   "id": "35ba7c98",
   "metadata": {},
   "source": [
    "### Кумулятивная выручка по группам"
   ]
  },
  {
   "cell_type": "code",
   "execution_count": 16,
   "id": "ef8be88d",
   "metadata": {},
   "outputs": [],
   "source": [
    "# создаем массив уникальных пар значений дат и групп теста\n",
    "groups = orders[['date','group']].drop_duplicates()"
   ]
  },
  {
   "cell_type": "code",
   "execution_count": 17,
   "id": "ca160f52",
   "metadata": {
    "scrolled": true
   },
   "outputs": [
    {
     "data": {
      "text/html": [
       "<div>\n",
       "<style scoped>\n",
       "    .dataframe tbody tr th:only-of-type {\n",
       "        vertical-align: middle;\n",
       "    }\n",
       "\n",
       "    .dataframe tbody tr th {\n",
       "        vertical-align: top;\n",
       "    }\n",
       "\n",
       "    .dataframe thead th {\n",
       "        text-align: right;\n",
       "    }\n",
       "</style>\n",
       "<table border=\"1\" class=\"dataframe\">\n",
       "  <thead>\n",
       "    <tr style=\"text-align: right;\">\n",
       "      <th></th>\n",
       "      <th>date</th>\n",
       "      <th>group</th>\n",
       "      <th>orders_count</th>\n",
       "      <th>paying_users</th>\n",
       "      <th>revenue</th>\n",
       "    </tr>\n",
       "  </thead>\n",
       "  <tbody>\n",
       "    <tr>\n",
       "      <td>55</td>\n",
       "      <td>2019-08-01</td>\n",
       "      <td>A</td>\n",
       "      <td>23</td>\n",
       "      <td>19</td>\n",
       "      <td>142779</td>\n",
       "    </tr>\n",
       "    <tr>\n",
       "      <td>66</td>\n",
       "      <td>2019-08-01</td>\n",
       "      <td>B</td>\n",
       "      <td>17</td>\n",
       "      <td>17</td>\n",
       "      <td>59758</td>\n",
       "    </tr>\n",
       "    <tr>\n",
       "      <td>175</td>\n",
       "      <td>2019-08-02</td>\n",
       "      <td>A</td>\n",
       "      <td>42</td>\n",
       "      <td>36</td>\n",
       "      <td>234381</td>\n",
       "    </tr>\n",
       "    <tr>\n",
       "      <td>173</td>\n",
       "      <td>2019-08-02</td>\n",
       "      <td>B</td>\n",
       "      <td>40</td>\n",
       "      <td>39</td>\n",
       "      <td>221801</td>\n",
       "    </tr>\n",
       "    <tr>\n",
       "      <td>291</td>\n",
       "      <td>2019-08-03</td>\n",
       "      <td>A</td>\n",
       "      <td>66</td>\n",
       "      <td>60</td>\n",
       "      <td>346854</td>\n",
       "    </tr>\n",
       "  </tbody>\n",
       "</table>\n",
       "</div>"
      ],
      "text/plain": [
       "          date group  orders_count  paying_users  revenue\n",
       "55  2019-08-01     A            23            19   142779\n",
       "66  2019-08-01     B            17            17    59758\n",
       "175 2019-08-02     A            42            36   234381\n",
       "173 2019-08-02     B            40            39   221801\n",
       "291 2019-08-03     A            66            60   346854"
      ]
     },
     "execution_count": 17,
     "metadata": {},
     "output_type": "execute_result"
    }
   ],
   "source": [
    "orders_agg = (\n",
    "    groups.apply(lambda x:\n",
    "                 orders[(orders['date'] <= x['date']) & (orders['group'] == x['group'])]\n",
    "                 .agg({'date': 'max',\n",
    "                       'group': 'max',\n",
    "                       'transactionId': 'nunique',\n",
    "                       'visitorId': 'nunique',\n",
    "                       'revenue': 'sum'}),\n",
    "                 axis=1)\n",
    "    .rename(columns={'transactionId': 'orders_count', 'visitorId': 'paying_users'})\n",
    "    .sort_values(by=['date', 'group'])\n",
    ")\n",
    "orders_agg.head()"
   ]
  },
  {
   "cell_type": "code",
   "execution_count": 18,
   "id": "ea3d5244",
   "metadata": {},
   "outputs": [
    {
     "data": {
      "text/html": [
       "<div>\n",
       "<style scoped>\n",
       "    .dataframe tbody tr th:only-of-type {\n",
       "        vertical-align: middle;\n",
       "    }\n",
       "\n",
       "    .dataframe tbody tr th {\n",
       "        vertical-align: top;\n",
       "    }\n",
       "\n",
       "    .dataframe thead th {\n",
       "        text-align: right;\n",
       "    }\n",
       "</style>\n",
       "<table border=\"1\" class=\"dataframe\">\n",
       "  <thead>\n",
       "    <tr style=\"text-align: right;\">\n",
       "      <th></th>\n",
       "      <th>date</th>\n",
       "      <th>group</th>\n",
       "      <th>users_count</th>\n",
       "    </tr>\n",
       "  </thead>\n",
       "  <tbody>\n",
       "    <tr>\n",
       "      <td>55</td>\n",
       "      <td>2019-08-01</td>\n",
       "      <td>A</td>\n",
       "      <td>719</td>\n",
       "    </tr>\n",
       "    <tr>\n",
       "      <td>66</td>\n",
       "      <td>2019-08-01</td>\n",
       "      <td>B</td>\n",
       "      <td>713</td>\n",
       "    </tr>\n",
       "    <tr>\n",
       "      <td>175</td>\n",
       "      <td>2019-08-02</td>\n",
       "      <td>A</td>\n",
       "      <td>1338</td>\n",
       "    </tr>\n",
       "    <tr>\n",
       "      <td>173</td>\n",
       "      <td>2019-08-02</td>\n",
       "      <td>B</td>\n",
       "      <td>1294</td>\n",
       "    </tr>\n",
       "    <tr>\n",
       "      <td>291</td>\n",
       "      <td>2019-08-03</td>\n",
       "      <td>A</td>\n",
       "      <td>1845</td>\n",
       "    </tr>\n",
       "  </tbody>\n",
       "</table>\n",
       "</div>"
      ],
      "text/plain": [
       "          date group  users_count\n",
       "55  2019-08-01     A          719\n",
       "66  2019-08-01     B          713\n",
       "175 2019-08-02     A         1338\n",
       "173 2019-08-02     B         1294\n",
       "291 2019-08-03     A         1845"
      ]
     },
     "execution_count": 18,
     "metadata": {},
     "output_type": "execute_result"
    }
   ],
   "source": [
    "visitors_agg = (\n",
    "    groups.apply(lambda x:\n",
    "                visitors[(visitors['date'] <= x['date']) & (visitors['group'] == x['group'])]\n",
    "                 .agg({'date': 'max',\n",
    "                       'group': 'max',\n",
    "                       'visitors': 'sum'}),\n",
    "                 axis=1)\n",
    "    .rename(columns={'visitors': 'users_count'})\n",
    "    .sort_values(by=['date', 'group'])\n",
    ")\n",
    "visitors_agg.head()"
   ]
  },
  {
   "cell_type": "code",
   "execution_count": 19,
   "id": "8418e0a3",
   "metadata": {},
   "outputs": [
    {
     "data": {
      "text/html": [
       "<div>\n",
       "<style scoped>\n",
       "    .dataframe tbody tr th:only-of-type {\n",
       "        vertical-align: middle;\n",
       "    }\n",
       "\n",
       "    .dataframe tbody tr th {\n",
       "        vertical-align: top;\n",
       "    }\n",
       "\n",
       "    .dataframe thead th {\n",
       "        text-align: right;\n",
       "    }\n",
       "</style>\n",
       "<table border=\"1\" class=\"dataframe\">\n",
       "  <thead>\n",
       "    <tr style=\"text-align: right;\">\n",
       "      <th></th>\n",
       "      <th>date</th>\n",
       "      <th>group</th>\n",
       "      <th>orders_count</th>\n",
       "      <th>paying_users</th>\n",
       "      <th>revenue</th>\n",
       "      <th>users_count</th>\n",
       "    </tr>\n",
       "  </thead>\n",
       "  <tbody>\n",
       "    <tr>\n",
       "      <td>0</td>\n",
       "      <td>2019-08-01</td>\n",
       "      <td>A</td>\n",
       "      <td>23</td>\n",
       "      <td>19</td>\n",
       "      <td>142779</td>\n",
       "      <td>719</td>\n",
       "    </tr>\n",
       "    <tr>\n",
       "      <td>1</td>\n",
       "      <td>2019-08-01</td>\n",
       "      <td>B</td>\n",
       "      <td>17</td>\n",
       "      <td>17</td>\n",
       "      <td>59758</td>\n",
       "      <td>713</td>\n",
       "    </tr>\n",
       "    <tr>\n",
       "      <td>2</td>\n",
       "      <td>2019-08-02</td>\n",
       "      <td>A</td>\n",
       "      <td>42</td>\n",
       "      <td>36</td>\n",
       "      <td>234381</td>\n",
       "      <td>1338</td>\n",
       "    </tr>\n",
       "    <tr>\n",
       "      <td>3</td>\n",
       "      <td>2019-08-02</td>\n",
       "      <td>B</td>\n",
       "      <td>40</td>\n",
       "      <td>39</td>\n",
       "      <td>221801</td>\n",
       "      <td>1294</td>\n",
       "    </tr>\n",
       "    <tr>\n",
       "      <td>4</td>\n",
       "      <td>2019-08-03</td>\n",
       "      <td>A</td>\n",
       "      <td>66</td>\n",
       "      <td>60</td>\n",
       "      <td>346854</td>\n",
       "      <td>1845</td>\n",
       "    </tr>\n",
       "  </tbody>\n",
       "</table>\n",
       "</div>"
      ],
      "text/plain": [
       "        date group  orders_count  paying_users  revenue  users_count\n",
       "0 2019-08-01     A            23            19   142779          719\n",
       "1 2019-08-01     B            17            17    59758          713\n",
       "2 2019-08-02     A            42            36   234381         1338\n",
       "3 2019-08-02     B            40            39   221801         1294\n",
       "4 2019-08-03     A            66            60   346854         1845"
      ]
     },
     "execution_count": 19,
     "metadata": {},
     "output_type": "execute_result"
    }
   ],
   "source": [
    "cumulative_data = orders_agg.merge(\n",
    "    visitors_agg, \n",
    "    left_on=['date', 'group'], \n",
    "    right_on=['date', 'group']\n",
    ")\n",
    "\n",
    "cumulative_data.head()"
   ]
  },
  {
   "cell_type": "code",
   "execution_count": 20,
   "id": "0195cb33",
   "metadata": {
    "code_folding": [
     0
    ]
   },
   "outputs": [
    {
     "name": "stdout",
     "output_type": "stream",
     "text": [
      "Минимальная и максимальная дата в cumulative_data совпадают с исходными данными.\n"
     ]
    }
   ],
   "source": [
    "# проверка дат\n",
    "\n",
    "cum_min_date = cumulative_data['date'].dt.date.min()\n",
    "cum_max_date = cumulative_data['date'].dt.date.max()\n",
    "visitors_min_date = visitors['date'].dt.date.min()\n",
    "visitors_max_date = visitors['date'].dt.date.max()\n",
    "orders_min_date = orders['date'].dt.date.min()\n",
    "orders_max_date = orders['date'].dt.date.max()\n",
    "\n",
    "if (visitors_min_date == orders_min_date \n",
    "    and cum_min_date == visitors_min_date \n",
    "    and visitors_min_date == orders_min_date\n",
    "    and visitors_max_date == orders_max_date\n",
    "    and cum_max_date == visitors_max_date):\n",
    "    print('Минимальная и максимальная дата в cumulative_data совпадают с исходными данными.')\n",
    "else:\n",
    "    print('Даты не совпадают, требуется проверка.')"
   ]
  },
  {
   "cell_type": "code",
   "execution_count": 21,
   "id": "264f3333",
   "metadata": {
    "code_folding": []
   },
   "outputs": [
    {
     "data": {
      "image/jpeg": "[encoded data removed]"
     },
     "metadata": {},
     "output_type": "display_data"
    }
   ],
   "source": [
    "# кумулятивная выручка по группам\n",
    "fig = px.line(cumulative_data, x='date', y='revenue', color='group', title='Cumulative revenue', markers=True)\n",
    "fig.show('jpg')"
   ]
  },
  {
   "cell_type": "markdown",
   "id": "f3610040",
   "metadata": {},
   "source": [
    "<b>Выводы из графика:</b><br>\n",
    "- графики кумулятивной выручки для обоих групп равномерно растут;<br>\n",
    "- 19 августа у группы <i>B</i> наблюдается скачок выручки, вероятные причины:<br>\n",
    "    - резкое увеличение числа заказов;<br>\n",
    "    - оформлен очень большой заказ."
   ]
  },
  {
   "cell_type": "markdown",
   "id": "aa8ce378",
   "metadata": {},
   "source": [
    "### Кумулятивный средний чек"
   ]
  },
  {
   "cell_type": "code",
   "execution_count": 22,
   "id": "f8250578",
   "metadata": {},
   "outputs": [],
   "source": [
    "cumulative_data['avg_bill'] = cumulative_data['revenue'] / cumulative_data['orders_count']"
   ]
  },
  {
   "cell_type": "code",
   "execution_count": 23,
   "id": "3f741c75",
   "metadata": {
    "code_folding": []
   },
   "outputs": [
    {
     "data": {
      "image/jpeg": "[encoded data removed]"
     },
     "metadata": {},
     "output_type": "display_data"
    }
   ],
   "source": [
    "# кумулятивный средний чек по группам\n",
    "fig = px.line(cumulative_data, x='date', y='avg_bill', color='group', title='Cumulative average bill', markers=True)\n",
    "fig.show('jpg')"
   ]
  },
  {
   "cell_type": "markdown",
   "id": "0fa81065",
   "metadata": {},
   "source": [
    "<b>Выводы из графика:</b><br>\n",
    "- до 19 августа обе группы растут;\n",
    "- 19 августа средний чек группы <i>B</i> вырастает скачком;\n",
    "- после 19 августа средний чек группы <i>B</i> постепенно снижается."
   ]
  },
  {
   "cell_type": "markdown",
   "id": "648d74e2",
   "metadata": {},
   "source": [
    "### Относительное изменение кумулятивного среднего чека"
   ]
  },
  {
   "cell_type": "code",
   "execution_count": 24,
   "id": "7cbd4209",
   "metadata": {
    "scrolled": false
   },
   "outputs": [
    {
     "data": {
      "image/jpeg": "[encoded data removed]"
     },
     "metadata": {},
     "output_type": "display_data"
    }
   ],
   "source": [
    "avg_bill_a = cumulative_data.query('group == \"A\"')[['date', 'avg_bill']]\n",
    "avg_bill_b = cumulative_data.query('group == \"B\"')[['date', 'avg_bill']]\n",
    "\n",
    "avgs = avg_bill_a.merge(avg_bill_b, on='date', how='left', suffixes=['_a', '_b'])\n",
    "\n",
    "fig = px.line(avgs,\n",
    "              x='date',\n",
    "              y=(avgs['avg_bill_b'] / avgs['avg_bill_a'] - 1),\n",
    "              title='Относительное изменение кумулятивного среднего чека',\n",
    "              markers=True)\n",
    "fig.show('jpg')"
   ]
  },
  {
   "cell_type": "markdown",
   "id": "3762e935",
   "metadata": {},
   "source": [
    "<b>Выводы из графика:</b><br>\n",
    "- 19 августа всё тот же скачок, требуется проверить аномальные значения;<br>\n",
    "- за исключением скачка 19 августа средний чек группы <i>B</i> в целом снижется относительно среднего чека группы <i>A</i>, начиная с 8 августа. "
   ]
  },
  {
   "cell_type": "markdown",
   "id": "6a1d2ba7",
   "metadata": {},
   "source": [
    "### Кумулятивная конверсия по группам"
   ]
  },
  {
   "cell_type": "markdown",
   "id": "69edd77b",
   "metadata": {},
   "source": [
    "Предлагаемая метрика больше похожа на TPU, чем на конверсию :)<br>\n",
    "Мы не можем посчитать конверсию посетителей в покупателей, т.к. в представленных данных все посетители — покупатели."
   ]
  },
  {
   "cell_type": "code",
   "execution_count": 25,
   "id": "dcaf6f5d",
   "metadata": {},
   "outputs": [
    {
     "data": {
      "image/jpeg": "[encoded data removed]"
     },
     "metadata": {},
     "output_type": "display_data"
    }
   ],
   "source": [
    "cumulative_data['tpu'] = cumulative_data['orders_count'] / cumulative_data['users_count'] * 100\n",
    "fig = px.line(cumulative_data, x='date', y='tpu', color='group', title='Кумулятивная конверсия по группам', markers=True)\n",
    "fig.show('jpg')"
   ]
  },
  {
   "cell_type": "markdown",
   "id": "5393ae4b",
   "metadata": {},
   "source": [
    "<b>Выводы из графика:</b><br>\n",
    "- скачка 19 августа у группы <i>B</i> нет, значит дело не в числе чеков;<br>\n",
    "- группа <i>B</i> лучше группы <i>A</i> по числу чеков на покупателя."
   ]
  },
  {
   "cell_type": "markdown",
   "id": "20f89b68",
   "metadata": {},
   "source": [
    "### Относительное изменение конверсии"
   ]
  },
  {
   "cell_type": "markdown",
   "id": "48075278",
   "metadata": {},
   "source": [
    "<a id='cr'></a>"
   ]
  },
  {
   "cell_type": "code",
   "execution_count": 26,
   "id": "6f02f428",
   "metadata": {},
   "outputs": [
    {
     "data": {
      "image/jpeg": "[encoded data removed]"
     },
     "metadata": {},
     "output_type": "display_data"
    }
   ],
   "source": [
    "tpu_a = cumulative_data.query('group == \"A\"')[['date', 'tpu']]\n",
    "tpu_b = cumulative_data.query('group == \"B\"')[['date', 'tpu']]\n",
    "\n",
    "tpus = tpu_a.merge(tpu_b, on='date', how='left', suffixes=['_a', '_b'])\n",
    "\n",
    "fig = px.line(tpus,\n",
    "              x='date',\n",
    "              y=(tpus['tpu_b'] / tpus['tpu_a'] - 1),\n",
    "              title='Относительное изменение кумулятивной конверсии',\n",
    "              markers=True)\n",
    "fig.show('jpg')"
   ]
  },
  {
   "cell_type": "markdown",
   "id": "04fb7090",
   "metadata": {},
   "source": [
    "<b>Выводы из графика:</b><br>\n",
    "- конверсия группы <i>B</i> интенсивно росла относительно группы <i>A</i> до 10 августа."
   ]
  },
  {
   "cell_type": "markdown",
   "id": "19257278",
   "metadata": {},
   "source": [
    "### Число заказов по пользователям"
   ]
  },
  {
   "cell_type": "code",
   "execution_count": 27,
   "id": "a2c02aa7",
   "metadata": {
    "code_folding": [
     0
    ]
   },
   "outputs": [],
   "source": [
    "orders_by_users = (\n",
    "    orders.groupby('visitorId', as_index=False) \\\n",
    "    .agg({'transactionId': 'nunique'})\n",
    "    .rename(columns={'transactionId': 'orders_count'})\n",
    ")"
   ]
  },
  {
   "cell_type": "code",
   "execution_count": 28,
   "id": "50b39646",
   "metadata": {},
   "outputs": [
    {
     "data": {
      "image/jpeg": "[encoded data removed]"
     },
     "metadata": {},
     "output_type": "display_data"
    }
   ],
   "source": [
    "fig = px.scatter(orders_by_users,\n",
    "                 x=pd.Series(range(0,len(orders_by_users['visitorId']))),\n",
    "                 y='orders_count',\n",
    "                 title='Число заказов по пользователям',\n",
    "                 labels={'x':'user'}\n",
    "                )\n",
    "fig.update_xaxes(type='category', tickangle=-90, dtick=0)\n",
    "fig.show('jpg')"
   ]
  },
  {
   "cell_type": "markdown",
   "id": "41cde42e",
   "metadata": {},
   "source": [
    "<b>Выводы из графика:</b><br>\n",
    "- в основной массе покупатели совершают по одной покупке.<br>"
   ]
  },
  {
   "cell_type": "markdown",
   "id": "e7ed96b3",
   "metadata": {},
   "source": [
    "### Граница определения аномальных пользователей"
   ]
  },
  {
   "cell_type": "code",
   "execution_count": 29,
   "id": "ac6303dc",
   "metadata": {
    "scrolled": true
   },
   "outputs": [
    {
     "name": "stdout",
     "output_type": "stream",
     "text": [
      "95-й выборочный перцентиль количества заказов по пользователям: 1.0\n",
      "99-й выборочный перцентиль количества заказов по пользователям: 2.0\n"
     ]
    }
   ],
   "source": [
    "abnormal_user_95 = (np.percentile(orders_by_users['orders_count'], 95))\n",
    "abnormal_user_99 = (np.percentile(orders_by_users['orders_count'], 99))\n",
    "print('95-й выборочный перцентиль количества заказов по пользователям:', abnormal_user_95)\n",
    "print('99-й выборочный перцентиль количества заказов по пользователям:', abnormal_user_99)"
   ]
  },
  {
   "cell_type": "markdown",
   "id": "88cb00b4",
   "metadata": {},
   "source": [
    "<b>Вывод</b>:\n",
    "- Не более, чем 5% покупателей произвело более 1 заказа. \n",
    "- Не более, чем 1% покупателей произвело более 2 заказов.\n",
    "- Аномальным можно считать число заказов более 2 на пользователя."
   ]
  },
  {
   "cell_type": "markdown",
   "id": "1d857deb",
   "metadata": {},
   "source": [
    "### Стоимость заказов"
   ]
  },
  {
   "cell_type": "code",
   "execution_count": 30,
   "id": "3ca873fa",
   "metadata": {
    "scrolled": false
   },
   "outputs": [
    {
     "data": {
      "image/jpeg": "[encoded data removed]"
     },
     "metadata": {},
     "output_type": "display_data"
    }
   ],
   "source": [
    "revenue_by_users = (\n",
    "    orders.groupby('visitorId', as_index=False) \\\n",
    "    .agg({'revenue': 'sum'})\n",
    ")\n",
    "fig = px.scatter(revenue_by_users,\n",
    "                 x=pd.Series(range(0,len(orders_by_users['visitorId']))),\n",
    "                 y='revenue',\n",
    "                 title='Сумма заказов по пользователям',\n",
    "                 labels={'x':'user'})\n",
    "fig.update_xaxes(type='category', tickangle=-90, dtick=0)\n",
    "fig.show('jpg')"
   ]
  },
  {
   "cell_type": "markdown",
   "id": "514b1ce3",
   "metadata": {},
   "source": [
    "Ограничим этот график и выведем только те суммы, которые попадают в 99 перцентиль."
   ]
  },
  {
   "cell_type": "code",
   "execution_count": 31,
   "id": "fd24054b",
   "metadata": {},
   "outputs": [
    {
     "data": {
      "image/jpeg": "[encoded data removed]"
     },
     "metadata": {},
     "output_type": "display_data"
    }
   ],
   "source": [
    "fig = px.scatter(revenue_by_users,\n",
    "                 x=pd.Series(range(0,len(orders_by_users['visitorId']))),\n",
    "                 y='revenue',\n",
    "                 title='Сумма заказов по пользователям, ограничено 99 перцентилем',\n",
    "                 labels={'x':'user'})\n",
    "fig.update_xaxes(type='category', tickangle=-90, dtick=0)\n",
    "fig.update_yaxes(range=[0, round(np.percentile(orders['revenue'], 99), 0)])\n",
    "fig.show('jpg')"
   ]
  },
  {
   "cell_type": "markdown",
   "id": "55183d34",
   "metadata": {},
   "source": [
    "<b>Вывод по графикам</b>:\n",
    "- есть 1 крупный заказ."
   ]
  },
  {
   "cell_type": "markdown",
   "id": "b9ca1209",
   "metadata": {},
   "source": [
    "###  Выбор границы аномальных заказов"
   ]
  },
  {
   "cell_type": "code",
   "execution_count": 32,
   "id": "73287cf7",
   "metadata": {},
   "outputs": [
    {
     "name": "stdout",
     "output_type": "stream",
     "text": [
      "95-й выборочный перцентиль стоимости заказов по пользователям: 26785.0\n",
      "99-й выборочный перцентиль стоимости заказов по пользователям: 53904.0\n"
     ]
    }
   ],
   "source": [
    "abnormal_orders_95 = (np.percentile(orders['revenue'], 95)).round()\n",
    "abnormal_orders_99 = (np.percentile(orders['revenue'], 99)).round()\n",
    "print('95-й выборочный перцентиль стоимости заказов по пользователям:', abnormal_orders_95)\n",
    "print('99-й выборочный перцентиль стоимости заказов по пользователям:', abnormal_orders_99)"
   ]
  },
  {
   "cell_type": "markdown",
   "id": "230f9f92",
   "metadata": {},
   "source": [
    "<b>Вывод</b>:\n",
    "- Не более, чем 5% заказов дороже 26 785 руб. \n",
    "- Не более, чем 1% заказов дороже 53 904 руб.\n",
    "- Заказы свыше 26 785 руб. можно рассматривать как аномальные."
   ]
  },
  {
   "cell_type": "markdown",
   "id": "1bb7ce83",
   "metadata": {},
   "source": [
    "### Статистическая значимость различий в конверсии между группами по «сырым» данным"
   ]
  },
  {
   "cell_type": "markdown",
   "id": "16cc1ef0",
   "metadata": {},
   "source": [
    "<b>Введем нулевую и альтернативные гипотезы</b>:\n",
    "\n",
    "$\\begin{equation*}\n",
    "    \\begin{cases}\n",
    "        H_0 :\\text{Различий в конверсии между группами нет.}\\\\\n",
    "        H_1 :\\text{Различия в конверсии между группами есть.}\n",
    "    \\end{cases}\n",
    "\\end{equation*}$\n",
    "\n",
    "Уровень значимости: $\\alpha = 0.05$\n",
    "\n",
    "Если p-value меньше выбранного уровня значимости ($\\alpha = 0.05$), есть основания отвергнуть нулевую гипотезу в пользу альтернативной.<br>\n",
    "Иначе, данные не позволили отвергнуть нулевую гипотезу."
   ]
  },
  {
   "cell_type": "code",
   "execution_count": 33,
   "id": "8b358dc6",
   "metadata": {
    "code_folding": [
     0
    ]
   },
   "outputs": [],
   "source": [
    "# Сбор данных\n",
    "\n",
    "# Группа А\n",
    "daily_visitors_a = visitors.query('group == \"A\"')[['date', 'visitors']]\n",
    "\n",
    "# С помощью lambda-функции итерируемся по каждой строке датафрейма и сравниваем: \n",
    "# если дата или даты (если прошли больше n итераций) (daily_visitors_a['date']) \n",
    "# меньше даты в текущей ячейке, в которой мы находимся на конкретном шаге итерации (x['date']), \n",
    "# то суммируй ее/их значения столбца visitors со значением visitors в текущей ячейке ('visitors': 'sum'), \n",
    "# а дату оставляй максимальную из 2-х/3-х/n ('date': 'max'). \n",
    "# Таким образом, получаем кумулятивную сумму для каждой даты, учитывая предыдущие (меньшие) даты.\n",
    "\n",
    "cum_visitors_a = daily_visitors_a.apply(\n",
    "    lambda x: daily_visitors_a[daily_visitors_a['date'] <= x['date']]\n",
    "    .agg({'date': 'max',\n",
    "          'visitors': 'sum'}), axis=1)\n",
    "\n",
    "cum_visitors_a.columns = [\n",
    "    'date', \n",
    "    'num_visitors_a'\n",
    "]\n",
    "\n",
    "daily_orders_a = (\n",
    "    orders\n",
    "    .query('group == \"A\"')[['date', 'transactionId', 'visitorId', 'revenue']]\n",
    "    .groupby('date', as_index=False)\n",
    "    .agg({'transactionId': 'nunique',\n",
    "          'revenue': 'sum'})\n",
    ")\n",
    "\n",
    "\n",
    "cum_orders_a = daily_orders_a.apply(\n",
    "    lambda x: daily_orders_a[daily_orders_a['date'] <= x['date']]\n",
    "    .agg({'date': 'max', \n",
    "          'transactionId': 'sum', \n",
    "          'revenue': 'sum'}), axis=1).sort_values(by=['date'])\n",
    "\n",
    "cum_orders_a.columns = [\n",
    "    'date',\n",
    "    'num_orders_a',\n",
    "    'revenue_a',\n",
    "]"
   ]
  },
  {
   "cell_type": "code",
   "execution_count": 34,
   "id": "e530a7ab",
   "metadata": {
    "code_folding": [
     0
    ]
   },
   "outputs": [],
   "source": [
    "# Группа B\n",
    "daily_visitors_b = visitors.query('group == \"B\"')[['date', 'visitors']]\n",
    "\n",
    "cum_visitors_b = daily_visitors_b.apply(\n",
    "    lambda x: daily_visitors_b[daily_visitors_b['date'] <= x['date']] # \n",
    "    .agg({'date': 'max',\n",
    "          'visitors': 'sum'}), axis=1)\n",
    "\n",
    "cum_visitors_b.columns = [\n",
    "    'date', \n",
    "    'num_visitors_b'\n",
    "]\n",
    "\n",
    "daily_orders_b = (\n",
    "    orders\n",
    "    .query('group == \"B\"')[['date', 'transactionId', 'visitorId', 'revenue']]\n",
    "    .groupby('date', as_index=False)\n",
    "    .agg({'transactionId': 'nunique',\n",
    "          'revenue': 'sum'})\n",
    ")\n",
    "\n",
    "\n",
    "cum_orders_b = daily_orders_b.apply(\n",
    "    lambda x: daily_orders_b[daily_orders_b['date'] <= x['date']]\n",
    "    .agg({'date': 'max', \n",
    "          'transactionId': 'sum', \n",
    "          'revenue': 'sum'}), axis=1).sort_values(by=['date'])\n",
    "\n",
    "cum_orders_b.columns = [\n",
    "    'date',\n",
    "    'num_orders_b',\n",
    "    'revenue_b',\n",
    "]"
   ]
  },
  {
   "cell_type": "code",
   "execution_count": 35,
   "id": "55f4a43b",
   "metadata": {
    "code_folding": [
     0
    ]
   },
   "outputs": [],
   "source": [
    "# Объединение\n",
    "\n",
    "final_data = (\n",
    "    daily_orders_a.merge(\n",
    "        daily_orders_b, left_on='date', right_on='date', how='left'\n",
    "    )\n",
    "    .merge(cum_orders_a, left_on='date', right_on='date', how='left')\n",
    "    .merge(cum_orders_b, left_on='date', right_on='date', how='left')\n",
    "    .merge(daily_visitors_a, left_on='date', right_on='date', how='left')\n",
    "    .merge(daily_visitors_b, left_on='date', right_on='date', how='left')\n",
    "    .merge(cum_visitors_a, left_on='date', right_on='date', how='left')\n",
    "    .merge(cum_visitors_b, left_on='date', right_on='date', how='left')\n",
    ")"
   ]
  },
  {
   "cell_type": "code",
   "execution_count": 36,
   "id": "12e237d2",
   "metadata": {
    "code_folding": [
     0
    ]
   },
   "outputs": [],
   "source": [
    "# Переменные для определения статистической значимости в конверсии между группами по «сырым» данным\n",
    "\n",
    "# Группа А\n",
    "orders_by_users_a = (\n",
    "    orders.query('group == \"A\"')\n",
    "    .groupby('visitorId', as_index=False)\n",
    "    .agg({'transactionId': 'nunique'})\n",
    ")\n",
    "\n",
    "orders_by_users_a.columns = ['visitorId', 'num_orders']\n",
    "\n",
    "sample_a = pd.concat(\n",
    "    [\n",
    "        orders_by_users_a['num_orders'],\n",
    "        pd.Series(\n",
    "            0,\n",
    "            index=np.arange(\n",
    "                final_data['visitors_x'].sum() - len(orders_by_users_a['num_orders'])\n",
    "            ),\n",
    "            name='orders',\n",
    "        ),\n",
    "    ],\n",
    "    axis=0,\n",
    ")"
   ]
  },
  {
   "cell_type": "code",
   "execution_count": 37,
   "id": "b03aaa95",
   "metadata": {
    "code_folding": [
     0
    ]
   },
   "outputs": [],
   "source": [
    "# Группа В\n",
    "\n",
    "orders_by_users_b = (\n",
    "    orders.query('group == \"B\"')\n",
    "    .groupby('visitorId', as_index=False)\n",
    "    .agg({'transactionId': 'nunique'})\n",
    ")\n",
    "\n",
    "orders_by_users_b.columns = ['visitorId', 'num_orders']\n",
    "\n",
    "sample_b = pd.concat(\n",
    "    [\n",
    "        orders_by_users_b['num_orders'],\n",
    "        pd.Series(\n",
    "            0,\n",
    "            index=np.arange(\n",
    "                final_data['visitors_y'].sum() - len(orders_by_users_b['num_orders'])\n",
    "            ),\n",
    "            name='orders',\n",
    "        ),\n",
    "    ],\n",
    "    axis=0,\n",
    ")"
   ]
  },
  {
   "cell_type": "code",
   "execution_count": 38,
   "id": "a0e5e6b0",
   "metadata": {},
   "outputs": [
    {
     "name": "stdout",
     "output_type": "stream",
     "text": [
      "p-value: 0.011018\n",
      "Имеются основания отвергнуть нулевую гипотезу\n",
      "Относительный прирост конверсии группы В к конверсии группы А в процентах: 15.98 %\n"
     ]
    }
   ],
   "source": [
    "alpha = .05\n",
    "\n",
    "results = stats.mannwhitneyu(sample_a, sample_b, alternative='two-sided')[1]\n",
    "\n",
    "print('p-value:', '{0:.6f}'.format(results))\n",
    "\n",
    "if (results < alpha):\n",
    "    print('Имеются основания отвергнуть нулевую гипотезу')\n",
    "else:\n",
    "    print('Недостаточно оснований, чтобы отвергнуть нулевую гипотезу')\n",
    "    \n",
    "print('Относительный прирост конверсии группы В к конверсии группы А в процентах:',\n",
    "      \"{0:.2f}\".format(((final_data['transactionId_y'].sum() / final_data['visitors_y'].sum()) /\n",
    "      (final_data['transactionId_x'].sum() / final_data['visitors_x'].sum()) - 1) * 100), '%')"
   ]
  },
  {
   "cell_type": "markdown",
   "id": "49a51e71",
   "metadata": {},
   "source": [
    "<a id='raw_cr'></a>\n",
    "<b>Вывод</b>:\n",
    "- На доступных данных на 5% уровне значимости имеются основания отвергнуть нулевую гипотезу в пользу альтернативной (`p-value` меньше уровня значимости (0.05)).\n",
    "- Обнаружены статистически значимые различия между группами. Есть существенное различие в конверсиях пользователей групп A и B.\n",
    "- Относительный прирост конверсии группы В к конверсии группы А равен 15.98%."
   ]
  },
  {
   "cell_type": "markdown",
   "id": "54e76d30",
   "metadata": {},
   "source": [
    "### Статистическая значимость различий в среднем чеке заказа между группами по «сырым» данным"
   ]
  },
  {
   "cell_type": "markdown",
   "id": "d18804cb",
   "metadata": {},
   "source": [
    "**Введем нулевую и альтернативные гипотезы**:\n",
    "\n",
    "$\\begin{equation*}\n",
    " \\begin{cases}\n",
    "   H_0 :\\text{Различий в среднем чеке между группами нет}\\\\\n",
    "   H_1 :\\text{Различия в среднем чеке между группами есть.}\n",
    " \\end{cases}\n",
    "\\end{equation*}$\n",
    "\n",
    "Уровень значимости: $\\alpha = 0.05$\n",
    "\n",
    "Рассчитаем p-value. Если p-value будет меньше выбранного уровня значимости ($\\alpha = 0.05$), то будут основания отвергнуть нулевую гипотезу в пользу альтернативной. Иначе сделаем вывод, что данные не позволили нам отвергнуть нулевую гипотезу."
   ]
  },
  {
   "cell_type": "code",
   "execution_count": 39,
   "id": "14145731",
   "metadata": {},
   "outputs": [
    {
     "name": "stdout",
     "output_type": "stream",
     "text": [
      "p-value: 0.829491\n",
      "Недостаточно оснований, чтобы отвергнуть нулевую гипотезу\n",
      "Относительный прирост среднего чека группы B: 28.66 %\n"
     ]
    }
   ],
   "source": [
    "results = stats.mannwhitneyu(\n",
    "    orders.query('group == \"A\"')['revenue'],\n",
    "    orders.query('group == \"B\"')['revenue'],\n",
    "    alternative='two-sided')[1]\n",
    "\n",
    "print('p-value:', '{0:.6f}'.format(results))\n",
    "\n",
    "if (results < alpha):\n",
    "    print('Имеются основания отвергнуть нулевую гипотезу')\n",
    "else:\n",
    "    print('Недостаточно оснований, чтобы отвергнуть нулевую гипотезу')\n",
    "    \n",
    "print('Относительный прирост среднего чека группы B:',\n",
    "      '{0:.2f}'.format((orders.query('group == \"B\"')['revenue'].mean() /\n",
    "                        orders.query('group == \"A\"')['revenue'].mean() - 1) * 100), '%')"
   ]
  },
  {
   "cell_type": "markdown",
   "id": "8d35e0c5",
   "metadata": {},
   "source": [
    "<a id='raw_bill'></a>\n",
    "<b>Вывод</b>:\n",
    "- На доступных данных на 5% уровне значимости недостаточно оснований, чтобы отвергнуть нулевую гипотезу в пользу альтернативной.\n",
    "- Статистически значимых различий между группами нет.\n",
    "- Относительный прирост среднего чека группы В к среднему чеку группы А равен 28.66%. На данное значение могли повлиять выбросы, которые мы наблюдали на графиках ранее."
   ]
  },
  {
   "cell_type": "markdown",
   "id": "091185ae",
   "metadata": {},
   "source": [
    "### Статистическая значимость различий в конверсии между группами по «очищенным» данным."
   ]
  },
  {
   "cell_type": "code",
   "execution_count": 40,
   "id": "79e668ae",
   "metadata": {},
   "outputs": [],
   "source": [
    "# Выделение аномальных записей\n",
    "\n",
    "abnormal_orders = pd.concat(\n",
    "    [\n",
    "        orders_by_users_a.query('num_orders > @abnormal_user_99')['visitorId'],\n",
    "        orders_by_users_b.query('num_orders > @abnormal_user_99')['visitorId']\n",
    "    ],\n",
    "    axis=0,\n",
    ")\n",
    "\n",
    "abnormal_revenue = orders[orders['revenue'] > abnormal_orders_95]['visitorId']\n",
    "\n",
    "abnormal_data = (\n",
    "    pd.concat([abnormal_orders, abnormal_revenue], axis=0)\n",
    "    .drop_duplicates()\n",
    "    .sort_values()\n",
    ")"
   ]
  },
  {
   "cell_type": "code",
   "execution_count": 41,
   "id": "a5d7f360",
   "metadata": {
    "code_folding": [
     0,
     16
    ]
   },
   "outputs": [],
   "source": [
    "sample_a_normal = pd.concat(\n",
    "    [\n",
    "        orders_by_users_a[\n",
    "            np.logical_not(orders_by_users_a['visitorId'].isin(abnormal_data))\n",
    "        ]['num_orders'],\n",
    "        pd.Series(\n",
    "            0,\n",
    "            index=np.arange(\n",
    "                final_data['visitors_x'].sum() - len(orders_by_users_a['num_orders'])\n",
    "            ),\n",
    "            name='orders',\n",
    "        ),\n",
    "    ],\n",
    "    axis=0,\n",
    ")\n",
    "\n",
    "sample_b_normal = pd.concat(\n",
    "    [\n",
    "        orders_by_users_b[\n",
    "            np.logical_not(orders_by_users_b['visitorId'].isin(abnormal_data))\n",
    "        ]['num_orders'],\n",
    "        pd.Series(\n",
    "            0,\n",
    "            index=np.arange(\n",
    "                final_data['visitors_y'].sum() - len(orders_by_users_b['num_orders'])\n",
    "            ),\n",
    "            name='orders',\n",
    "        ),\n",
    "    ],\n",
    "    axis=0,\n",
    ")"
   ]
  },
  {
   "cell_type": "code",
   "execution_count": 42,
   "id": "5821e7e4",
   "metadata": {},
   "outputs": [
    {
     "name": "stdout",
     "output_type": "stream",
     "text": [
      "p-value: 0.012352\n",
      "Имеются основания отвергнуть нулевую гипотезу\n",
      "Относительный прирост конверсии группы В к конверсии группы А: 18.19 %\n"
     ]
    }
   ],
   "source": [
    "results = stats.mannwhitneyu(\n",
    "    sample_a_normal, \n",
    "    sample_b_normal, \n",
    "    alternative='two-sided')[1]\n",
    "\n",
    "print('p-value:', '{0:.6f}'.format(results))\n",
    "\n",
    "if (results < alpha):\n",
    "    print('Имеются основания отвергнуть нулевую гипотезу')\n",
    "else:\n",
    "    print('Недостаточно оснований, чтобы отвергнуть нулевую гипотезу')\n",
    "    \n",
    "print('Относительный прирост конверсии группы В к конверсии группы А:',\n",
    "      '{0:.2f}'.format((sample_b_normal.mean() / sample_a_normal.mean() - 1) * 100), '%')"
   ]
  },
  {
   "cell_type": "markdown",
   "id": "09bd0a0e",
   "metadata": {},
   "source": [
    "<a id='ref_cr'></a>\n",
    "<b>Вывод</b>:\n",
    "- На доступных данных на 5% уровне значимости имеются основания отвергнуть нулевую гипотезу в пользу альтернативной.\n",
    "- Обнаружены статистически значимые различия между группами. Есть существенное различие в конверсиях пользователей групп <i>A</i> и <i>B</i>.\n",
    "- Относительный прирост конверсии группы В к конверсии группы <i>А</i> равен 18.19%. Значение близко к значению, полученному на \"сырых\" данных. Конверсия не сильно зависела от аномалий и выбросов. По значению относительного прироста конверсии можно сделать вывод о том, что группа <i>В</i> показала себя лучше."
   ]
  },
  {
   "cell_type": "markdown",
   "id": "9313a174",
   "metadata": {},
   "source": [
    "### Статистическая значимость различий в среднем чеке заказа между группами по «очищенным» данным"
   ]
  },
  {
   "cell_type": "code",
   "execution_count": 43,
   "id": "15d81f69",
   "metadata": {
    "scrolled": true
   },
   "outputs": [
    {
     "name": "stdout",
     "output_type": "stream",
     "text": [
      "p-value: 0.322948\n",
      "Недостаточно оснований, чтобы отвергнуть нулевую гипотезу\n",
      "Относительный прирост среднего чека группы B к среднему чеку группы А: -4.85 %\n"
     ]
    }
   ],
   "source": [
    "results = stats.mannwhitneyu(\n",
    "    orders[\n",
    "        np.logical_and(\n",
    "            orders['group'] == 'A',\n",
    "            np.logical_not(orders['visitorId'].isin(abnormal_data))\n",
    "        )\n",
    "    ]['revenue'],\n",
    "    orders[\n",
    "        np.logical_and(\n",
    "            orders['group'] == 'B',\n",
    "            np.logical_not(orders['visitorId'].isin(abnormal_data))\n",
    "        )\n",
    "    ]['revenue'])[1]\n",
    "\n",
    "print('p-value:', '{0:.6f}'.format(results))\n",
    "\n",
    "if (results < alpha):\n",
    "    print('Имеются основания отвергнуть нулевую гипотезу')\n",
    "else:\n",
    "    print('Недостаточно оснований, чтобы отвергнуть нулевую гипотезу')\n",
    "    \n",
    "print(\n",
    "    'Относительный прирост среднего чека группы B к среднему чеку группы А:',\n",
    "    \"{0:.2f}\".format((\n",
    "        orders[\n",
    "            np.logical_and(\n",
    "                orders['group'] == 'B',\n",
    "                np.logical_not(orders['visitorId'].isin(abnormal_data)),\n",
    "            )\n",
    "        ]['revenue'].mean()\n",
    "        / orders[\n",
    "            np.logical_and(\n",
    "                orders['group'] == 'A',\n",
    "                np.logical_not(orders['visitorId'].isin(abnormal_data)),\n",
    "            )\n",
    "        ]['revenue'].mean() - 1) * 100), '%') "
   ]
  },
  {
   "cell_type": "markdown",
   "id": "30e45ca7",
   "metadata": {},
   "source": [
    "<a id='ref_bill'></a>\n",
    "<b>Вывод</b>:\n",
    "- На доступных данных на 5% уровне значимости не имеется основания отвергнуть нулевую гипотезу в пользу альтернативной.\n",
    "- Не обнаружено статистически значимых различий между группами.\n",
    "- Относительный прирост среднего чека группы <i>B</i> к среднему чеку группы <i>А</i>: -4.85 %. Различие связано с удалением выбросов."
   ]
  },
  {
   "cell_type": "markdown",
   "id": "e6c0f6d7",
   "metadata": {},
   "source": [
    "### Решение по результатам теста"
   ]
  },
  {
   "cell_type": "markdown",
   "id": "4e77f57c",
   "metadata": {},
   "source": [
    "Из исследования имеем:\n",
    "- тест проводился на <a href=\"#Группы\" data-toc-modified-id=\"Группы-2.1\">2х группах</a> с <a href=\"#Временные-интервалы-проведения-теста\" data-toc-modified-id=\"Временные-интервалы-проведения-теста-2.1.2\">01 по 31 августа 2019 года</a>;  \n",
    "- есть статистически значимые различия по конверсии между группами и [по «сырым» данным](#raw_cr), и по данным [после фильтрации](#ref_cr) аномалий;\n",
    "- нет статистически значимого различия по среднему чеку между группами ни [по «сырым»](#raw_bill), ни по данным [после фильтрации](#ref_bill) аномалий;\n",
    "- [рост](#cr) относительной конверсии.\n",
    "\n",
    "**Решение**<br>\n",
    "Исходя из обнаруженных фактов, тест следует остановить и зафиксировать преимущество **группы <i>B</i>**.<br>\n",
    "При постоянном относительном среднем чеке растёт относительная конверсия, значит, растёт и выручка."
   ]
  }
 ],
 "metadata": {
  "ExecuteTimeLog": [
   {
    "duration": 1430,
    "start_time": "2022-07-01T07:34:10.084Z"
   },
   {
    "duration": 146,
    "start_time": "2022-07-01T07:34:11.517Z"
   },
   {
    "duration": 23,
    "start_time": "2022-07-01T07:34:11.665Z"
   },
   {
    "duration": 17,
    "start_time": "2022-07-01T07:34:11.690Z"
   },
   {
    "duration": 13,
    "start_time": "2022-07-01T07:34:11.708Z"
   },
   {
    "duration": 27,
    "start_time": "2022-07-01T07:34:11.723Z"
   },
   {
    "duration": 11,
    "start_time": "2022-07-01T07:34:11.752Z"
   },
   {
    "duration": 13,
    "start_time": "2022-07-01T07:34:11.766Z"
   },
   {
    "duration": 12,
    "start_time": "2022-07-01T07:34:11.781Z"
   },
   {
    "duration": 6,
    "start_time": "2022-07-01T07:34:11.797Z"
   },
   {
    "duration": 35,
    "start_time": "2022-07-01T07:34:11.805Z"
   },
   {
    "duration": 11,
    "start_time": "2022-07-01T07:34:11.843Z"
   },
   {
    "duration": 19,
    "start_time": "2022-07-01T07:34:11.856Z"
   },
   {
    "duration": 176,
    "start_time": "2022-07-01T07:34:11.877Z"
   },
   {
    "duration": 126,
    "start_time": "2022-07-01T07:34:12.054Z"
   },
   {
    "duration": 11,
    "start_time": "2022-07-01T07:34:12.181Z"
   },
   {
    "duration": 586,
    "start_time": "2022-07-01T07:34:12.193Z"
   },
   {
    "duration": 5,
    "start_time": "2022-07-01T07:34:12.781Z"
   },
   {
    "duration": 68,
    "start_time": "2022-07-01T07:34:12.788Z"
   },
   {
    "duration": 108,
    "start_time": "2022-07-01T07:34:12.857Z"
   },
   {
    "duration": 77,
    "start_time": "2022-07-01T07:34:12.967Z"
   },
   {
    "duration": 61,
    "start_time": "2022-07-01T07:34:13.045Z"
   },
   {
    "duration": 8,
    "start_time": "2022-07-01T07:34:13.125Z"
   },
   {
    "duration": 63,
    "start_time": "2022-07-01T07:34:13.134Z"
   },
   {
    "duration": 6,
    "start_time": "2022-07-01T07:34:13.199Z"
   },
   {
    "duration": 158,
    "start_time": "2022-07-01T07:34:13.207Z"
   },
   {
    "duration": 6,
    "start_time": "2022-07-01T07:34:13.366Z"
   },
   {
    "duration": 121,
    "start_time": "2022-07-01T07:34:13.375Z"
   },
   {
    "duration": 115,
    "start_time": "2022-07-01T07:34:13.498Z"
   },
   {
    "duration": 28,
    "start_time": "2022-07-01T07:34:13.615Z"
   },
   {
    "duration": 11,
    "start_time": "2022-07-01T07:34:13.644Z"
   },
   {
    "duration": 19,
    "start_time": "2022-07-01T07:34:13.656Z"
   },
   {
    "duration": 27,
    "start_time": "2022-07-01T07:34:13.677Z"
   },
   {
    "duration": 35,
    "start_time": "2022-07-01T07:34:13.706Z"
   },
   {
    "duration": 22,
    "start_time": "2022-07-01T07:34:13.742Z"
   },
   {
    "duration": 18,
    "start_time": "2022-07-01T07:34:13.766Z"
   },
   {
    "duration": 26,
    "start_time": "2022-07-01T07:34:13.786Z"
   },
   {
    "duration": 21,
    "start_time": "2022-07-01T07:34:13.814Z"
   },
   {
    "duration": 13,
    "start_time": "2022-07-01T07:40:40.334Z"
   },
   {
    "duration": 144,
    "start_time": "2022-07-01T07:57:43.858Z"
   },
   {
    "duration": 134,
    "start_time": "2022-07-01T07:58:13.476Z"
   },
   {
    "duration": 6,
    "start_time": "2022-07-01T07:58:32.705Z"
   },
   {
    "duration": 1054,
    "start_time": "2022-07-01T12:26:07.986Z"
   },
   {
    "duration": 129,
    "start_time": "2022-07-01T12:26:09.042Z"
   },
   {
    "duration": 18,
    "start_time": "2022-07-01T12:26:09.173Z"
   },
   {
    "duration": 14,
    "start_time": "2022-07-01T12:26:09.193Z"
   },
   {
    "duration": 10,
    "start_time": "2022-07-01T12:26:09.208Z"
   },
   {
    "duration": 23,
    "start_time": "2022-07-01T12:26:09.219Z"
   },
   {
    "duration": 8,
    "start_time": "2022-07-01T12:26:09.244Z"
   },
   {
    "duration": 6,
    "start_time": "2022-07-01T12:26:09.253Z"
   },
   {
    "duration": 13,
    "start_time": "2022-07-01T12:26:09.260Z"
   },
   {
    "duration": 6,
    "start_time": "2022-07-01T12:26:09.275Z"
   },
   {
    "duration": 5,
    "start_time": "2022-07-01T12:26:09.283Z"
   },
   {
    "duration": 8,
    "start_time": "2022-07-01T12:26:09.289Z"
   },
   {
    "duration": 34,
    "start_time": "2022-07-01T12:26:09.298Z"
   },
   {
    "duration": 16,
    "start_time": "2022-07-01T12:26:09.333Z"
   },
   {
    "duration": 395,
    "start_time": "2022-07-01T12:26:09.357Z"
   },
   {
    "duration": 5,
    "start_time": "2022-07-01T12:26:09.754Z"
   },
   {
    "duration": 200,
    "start_time": "2022-07-01T12:26:09.760Z"
   },
   {
    "duration": 120,
    "start_time": "2022-07-01T12:26:09.961Z"
   },
   {
    "duration": 11,
    "start_time": "2022-07-01T12:26:10.082Z"
   },
   {
    "duration": 9,
    "start_time": "2022-07-01T12:26:10.095Z"
   },
   {
    "duration": 62,
    "start_time": "2022-07-01T12:26:10.106Z"
   },
   {
    "duration": 4,
    "start_time": "2022-07-01T12:26:10.169Z"
   },
   {
    "duration": 58,
    "start_time": "2022-07-01T12:26:10.174Z"
   },
   {
    "duration": 48,
    "start_time": "2022-07-01T12:26:10.234Z"
   },
   {
    "duration": 66,
    "start_time": "2022-07-01T12:26:10.284Z"
   },
   {
    "duration": 58,
    "start_time": "2022-07-01T12:26:10.351Z"
   },
   {
    "duration": 18,
    "start_time": "2022-07-01T12:26:10.411Z"
   },
   {
    "duration": 109,
    "start_time": "2022-07-01T12:26:10.432Z"
   },
   {
    "duration": 4,
    "start_time": "2022-07-01T12:26:10.543Z"
   },
   {
    "duration": 56,
    "start_time": "2022-07-01T12:26:10.549Z"
   },
   {
    "duration": 62,
    "start_time": "2022-07-01T12:26:10.606Z"
   },
   {
    "duration": 6,
    "start_time": "2022-07-01T12:26:10.670Z"
   },
   {
    "duration": 114,
    "start_time": "2022-07-01T12:26:10.678Z"
   },
   {
    "duration": 96,
    "start_time": "2022-07-01T12:26:10.794Z"
   },
   {
    "duration": 19,
    "start_time": "2022-07-01T12:26:10.892Z"
   },
   {
    "duration": 21,
    "start_time": "2022-07-01T12:26:10.913Z"
   },
   {
    "duration": 13,
    "start_time": "2022-07-01T12:26:10.935Z"
   },
   {
    "duration": 20,
    "start_time": "2022-07-01T12:26:10.949Z"
   },
   {
    "duration": 13,
    "start_time": "2022-07-01T12:26:10.970Z"
   },
   {
    "duration": 9,
    "start_time": "2022-07-01T12:26:10.984Z"
   },
   {
    "duration": 36,
    "start_time": "2022-07-01T12:26:10.994Z"
   },
   {
    "duration": 24,
    "start_time": "2022-07-01T12:26:11.031Z"
   },
   {
    "duration": 15,
    "start_time": "2022-07-01T12:26:11.057Z"
   }
  ],
  "kernelspec": {
   "display_name": "Python 3 (ipykernel)",
   "language": "python",
   "name": "python3"
  },
  "language_info": {
   "codemirror_mode": {
    "name": "ipython",
    "version": 3
   },
   "file_extension": ".py",
   "mimetype": "text/x-python",
   "name": "python",
   "nbconvert_exporter": "python",
   "pygments_lexer": "ipython3",
   "version": "3.7.8"
  },
  "toc": {
   "base_numbering": 1,
   "nav_menu": {},
   "number_sections": true,
   "sideBar": true,
   "skip_h1_title": true,
   "title_cell": "Table of Contents",
   "title_sidebar": "Contents",
   "toc_cell": true,
   "toc_position": {
    "height": "calc(100% - 180px)",
    "left": "10px",
    "top": "150px",
    "width": "303.825px"
   },
   "toc_section_display": true,
   "toc_window_display": true
  }
 },
 "nbformat": 4,
 "nbformat_minor": 5
}
