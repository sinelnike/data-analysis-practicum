{
 "cells": [
  {
   "cell_type": "markdown",
   "id": "97642ce0",
   "metadata": {},
   "source": [
    "# Анализ рентабельности рекламы приложения"
   ]
  },
  {
   "cell_type": "markdown",
   "id": "a730e0d9",
   "metadata": {},
   "source": [
    "## Введение"
   ]
  },
  {
   "cell_type": "markdown",
   "id": "484028a4",
   "metadata": {},
   "source": [
    "В работе проанализированы аудитория приложения и рентабельность рекламы для привлечения пользователей.  \n",
    "В работе оценены LTV, CAC, ROI, DAU, MAU, RR.  \n",
    "По результатам анализа сформулированы рекомендации для отдела маркетинга."
   ]
  },
  {
   "cell_type": "markdown",
   "id": "746ce8ae",
   "metadata": {},
   "source": [
    "## Подготовка данных"
   ]
  },
  {
   "cell_type": "code",
   "execution_count": 1,
   "id": "032305c1",
   "metadata": {},
   "outputs": [],
   "source": [
    "import pandas as pd\n",
    "import numpy as np\n",
    "from datetime import datetime, timedelta\n",
    "from matplotlib import pyplot as plt"
   ]
  },
  {
   "cell_type": "markdown",
   "id": "9de9d1a5",
   "metadata": {},
   "source": [
    "### Функции"
   ]
  },
  {
   "cell_type": "code",
   "execution_count": 2,
   "id": "78d29339",
   "metadata": {
    "code_folding": []
   },
   "outputs": [],
   "source": [
    "def get_profiles(sessions, orders, ad_costs):\n",
    "    \"\"\"Создание пользовательских профилей\n",
    "    \n",
    "    :param sessions: датасет с посещениями\n",
    "    :param orders: датасет с заказами\n",
    "    :param ad_costs: датасет с инфо по рекламе\n",
    "    :return: профили\n",
    "    \"\"\"\n",
    "    profiles = (\n",
    "        sessions.sort_values(by=['user_id', 'session_start'])\n",
    "        .groupby('user_id')\n",
    "        .agg(\n",
    "            {\n",
    "                'session_start': 'first',\n",
    "                'channel': 'first',\n",
    "                'device': 'first',\n",
    "                'region': 'first',\n",
    "            }\n",
    "        )\n",
    "        .rename(columns={'session_start': 'first_ts'})\n",
    "        .reset_index()\n",
    "    )\n",
    "    # для когортного анализа определяем дату первого посещения\n",
    "    # и первый день месяца, в который это посещение произошло\n",
    "    profiles['dt'] = profiles['first_ts'].dt.date\n",
    "    profiles['month'] = profiles['first_ts'].astype('datetime64[M]')\n",
    "\n",
    "    # добавляем признак платящих пользователей\n",
    "    profiles['payer'] = profiles['user_id'].isin(orders['user_id'].unique())\n",
    "\n",
    "    # считаем количество уникальных пользователей\n",
    "    # с одинаковыми источником и датой привлечения\n",
    "    new_users = (\n",
    "        profiles.groupby(['dt', 'channel'])\n",
    "        .agg({'user_id': 'nunique'})\n",
    "        .rename(columns={'user_id': 'unique_users'})\n",
    "        .reset_index()\n",
    "    )\n",
    "\n",
    "    # объединяем траты на рекламу и число привлечённых пользователей\n",
    "    ad_costs = ad_costs.merge(new_users, on=['dt', 'channel'], how='left')\n",
    "\n",
    "    # делим рекламные расходы на число привлечённых пользователей\n",
    "    ad_costs['acquisition_cost'] = ad_costs['costs'] / ad_costs['unique_users']\n",
    "\n",
    "    # добавляем стоимость привлечения в профили\n",
    "    profiles = profiles.merge(\n",
    "        ad_costs[['dt', 'channel', 'acquisition_cost']],\n",
    "        on=['dt', 'channel'],\n",
    "        how='left',\n",
    "    )\n",
    "\n",
    "    # стоимость привлечения органических пользователей равна нулю\n",
    "    profiles['acquisition_cost'] = profiles['acquisition_cost'].fillna(0)\n",
    "\n",
    "    return profiles\n"
   ]
  },
  {
   "cell_type": "code",
   "execution_count": 3,
   "id": "2d689d31",
   "metadata": {
    "code_folding": []
   },
   "outputs": [],
   "source": [
    "def get_retention(\n",
    "    profiles,\n",
    "    sessions,\n",
    "    observation_date,\n",
    "    horizon_days,\n",
    "    dimensions=[],\n",
    "    ignore_horizon=False,\n",
    "):\n",
    "    \"\"\"Расчёт удержания\n",
    "    \n",
    "    :param profiles: профили\n",
    "    :param sessions: сессии\n",
    "    :param observation_date: дата\n",
    "    :param horizon_days: горизонт анализа\n",
    "    :param dimensions: признаки\n",
    "    :param ignore_horizon: игнорирование горизонта анализа\n",
    "    :return: сырые данные, таблица удержания, таблица динамики удержания\n",
    "    \"\"\"\n",
    "    # добавляем столбец payer в передаваемый dimensions список\n",
    "    dimensions = ['payer'] + dimensions\n",
    "\n",
    "    # исключаем пользователей, не «доживших» до горизонта анализа\n",
    "    last_suitable_acquisition_date = observation_date\n",
    "    if not ignore_horizon:\n",
    "        last_suitable_acquisition_date = observation_date - timedelta(\n",
    "            days=horizon_days - 1\n",
    "        )\n",
    "    result_raw = profiles.query('dt <= @last_suitable_acquisition_date')\n",
    "\n",
    "    # собираем «сырые» данные для расчёта удержания\n",
    "    result_raw = result_raw.merge(\n",
    "        sessions[['user_id', 'session_start']], on='user_id', how='left'\n",
    "    )\n",
    "    result_raw['lifetime'] = (\n",
    "        result_raw['session_start'] - result_raw['first_ts']\n",
    "    ).dt.days\n",
    "\n",
    "    # функция для группировки таблицы по желаемым признакам\n",
    "    def group_by_dimensions(df, dims, horizon_days):\n",
    "        result = df.pivot_table(\n",
    "            index=dims, columns='lifetime', values='user_id', aggfunc='nunique'\n",
    "        )\n",
    "        cohort_sizes = (\n",
    "            df.groupby(dims)\n",
    "            .agg({'user_id': 'nunique'})\n",
    "            .rename(columns={'user_id': 'cohort_size'})\n",
    "        )\n",
    "        result = cohort_sizes.merge(result, on=dims, how='left').fillna(0)\n",
    "        result = result.div(result['cohort_size'], axis=0)\n",
    "        result = result[['cohort_size'] + list(range(horizon_days))]\n",
    "        result['cohort_size'] = cohort_sizes\n",
    "        return result\n",
    "\n",
    "    # получаем таблицу удержания\n",
    "    result_grouped = group_by_dimensions(result_raw, dimensions, horizon_days)\n",
    "\n",
    "    # получаем таблицу динамики удержания\n",
    "    result_in_time = group_by_dimensions(\n",
    "        result_raw, dimensions + ['dt'], horizon_days\n",
    "    )\n",
    "\n",
    "    # возвращаем обе таблицы и сырые данные\n",
    "    return result_raw, result_grouped, result_in_time"
   ]
  },
  {
   "cell_type": "code",
   "execution_count": 4,
   "id": "3a992297",
   "metadata": {
    "code_folding": []
   },
   "outputs": [],
   "source": [
    "def get_conversion(\n",
    "    profiles,\n",
    "    purchases,\n",
    "    observation_date,\n",
    "    horizon_days,\n",
    "    dimensions=[],\n",
    "    ignore_horizon=False,\n",
    "):\n",
    "    \"\"\"Расчёт конверсии\n",
    "    \n",
    "    :param profiles: профили\n",
    "    :param purchases: покупки\n",
    "    :param observation_date: дата наблюдения\n",
    "    :param horizon_days: горизонт анализа в днях\n",
    "    :param dimensions: признаки\n",
    "    :param ignore_horizon: игнорирование горизонта анализа\n",
    "    :return: сырые данные, таблица конверсии, таблица динамики конверсии\n",
    "    \"\"\"\n",
    "\n",
    "    # исключаем пользователей, не «доживших» до горизонта анализа\n",
    "    last_suitable_acquisition_date = observation_date\n",
    "    if not ignore_horizon:\n",
    "        last_suitable_acquisition_date = observation_date - timedelta(\n",
    "            days=horizon_days - 1\n",
    "        )\n",
    "    result_raw = profiles.query('dt <= @last_suitable_acquisition_date')\n",
    "\n",
    "    # определяем дату и время первой покупки для каждого пользователя\n",
    "    first_purchases = (\n",
    "        purchases.sort_values(by=['user_id', 'event_dt'])\n",
    "        .groupby('user_id')\n",
    "        .agg({'event_dt': 'first'})\n",
    "        .reset_index()\n",
    "    )\n",
    "\n",
    "    # добавляем данные о покупках в профили\n",
    "    result_raw = result_raw.merge(\n",
    "        first_purchases[['user_id', 'event_dt']], on='user_id', how='left'\n",
    "    )\n",
    "\n",
    "    # рассчитываем лайфтайм для каждой покупки\n",
    "    result_raw['lifetime'] = (\n",
    "        result_raw['event_dt'] - result_raw['first_ts']\n",
    "    ).dt.days\n",
    "\n",
    "    # группируем по cohort, если в dimensions ничего нет\n",
    "    if len(dimensions) == 0:\n",
    "        result_raw['cohort'] = 'All users' \n",
    "        dimensions = dimensions + ['cohort']\n",
    "\n",
    "    # функция для группировки таблицы по желаемым признакам\n",
    "    def group_by_dimensions(df, dims, horizon_days):\n",
    "        result = df.pivot_table(\n",
    "            index=dims, columns='lifetime', values='user_id', aggfunc='nunique'\n",
    "        )\n",
    "        result = result.fillna(0).cumsum(axis = 1)\n",
    "        cohort_sizes = (\n",
    "            df.groupby(dims)\n",
    "            .agg({'user_id': 'nunique'})\n",
    "            .rename(columns={'user_id': 'cohort_size'})\n",
    "        )\n",
    "        result = cohort_sizes.merge(result, on=dims, how='left').fillna(0)\n",
    "        # делим каждую «ячейку» в строке на размер когорты\n",
    "        # и получаем conversion rate\n",
    "        result = result.div(result['cohort_size'], axis=0)\n",
    "        result = result[['cohort_size'] + list(range(horizon_days))]\n",
    "        result['cohort_size'] = cohort_sizes\n",
    "        return result\n",
    "\n",
    "    # получаем таблицу конверсии\n",
    "    result_grouped = group_by_dimensions(result_raw, dimensions, horizon_days)\n",
    "\n",
    "    # для таблицы динамики конверсии убираем 'cohort' из dimensions\n",
    "    if 'cohort' in dimensions: \n",
    "        dimensions = []\n",
    "\n",
    "    # получаем таблицу динамики конверсии\n",
    "    result_in_time = group_by_dimensions(\n",
    "        result_raw, dimensions + ['dt'], horizon_days\n",
    "    )\n",
    "\n",
    "    # возвращаем обе таблицы и сырые данные\n",
    "    return result_raw, result_grouped, result_in_time"
   ]
  },
  {
   "cell_type": "code",
   "execution_count": 5,
   "id": "8e75f93b",
   "metadata": {
    "code_folding": []
   },
   "outputs": [],
   "source": [
    "def get_ltv(\n",
    "    profiles,\n",
    "    purchases,\n",
    "    observation_date,\n",
    "    horizon_days,\n",
    "    dimensions=[],\n",
    "    ignore_horizon=False,\n",
    "):\n",
    "    \"\"\"Расчёт LTV и ROI\n",
    "    \n",
    "    :param profiles: профили\n",
    "    :param purchases: покупки\n",
    "    :param observation_date: дата наблюдений\n",
    "    :param horizon_days: горизонт анализа\n",
    "    :param dimensions: признаки\n",
    "    :param ignore_horizon: игнорирование горизонта анализа\n",
    "    :return: tuple - (сырые данные, таблица LTV, таблица динамики LTV, таблица ROI, таблица динамики ROI)\n",
    "    \"\"\"\n",
    "    # исключаем пользователей, не «доживших» до горизонта анализа\n",
    "    last_suitable_acquisition_date = observation_date\n",
    "    if not ignore_horizon:\n",
    "        last_suitable_acquisition_date = observation_date - timedelta(\n",
    "            days=horizon_days - 1\n",
    "        )\n",
    "    result_raw = profiles.query('dt <= @last_suitable_acquisition_date')\n",
    "    # добавляем данные о покупках в профили\n",
    "    result_raw = result_raw.merge(\n",
    "        purchases[['user_id', 'event_dt', 'revenue']], on='user_id', how='left'\n",
    "    )\n",
    "    # рассчитываем лайфтайм пользователя для каждой покупки\n",
    "    result_raw['lifetime'] = (\n",
    "        result_raw['event_dt'] - result_raw['first_ts']\n",
    "    ).dt.days\n",
    "    # группируем по cohort, если в dimensions ничего нет\n",
    "    if len(dimensions) == 0:\n",
    "        result_raw['cohort'] = 'All users'\n",
    "        dimensions = dimensions + ['cohort']\n",
    "\n",
    "    # функция группировки по желаемым признакам\n",
    "    def group_by_dimensions(df, dims, horizon_days):\n",
    "        # строим «треугольную» таблицу выручки\n",
    "        result = df.pivot_table(\n",
    "            index=dims, columns='lifetime', values='revenue', aggfunc='sum'\n",
    "        )\n",
    "        # находим сумму выручки с накоплением\n",
    "        result = result.fillna(0).cumsum(axis=1)\n",
    "        # вычисляем размеры когорт\n",
    "        cohort_sizes = (\n",
    "            df.groupby(dims)\n",
    "            .agg({'user_id': 'nunique'})\n",
    "            .rename(columns={'user_id': 'cohort_size'})\n",
    "        )\n",
    "        # объединяем размеры когорт и таблицу выручки\n",
    "        result = cohort_sizes.merge(result, on=dims, how='left').fillna(0)\n",
    "        # считаем LTV: делим каждую «ячейку» в строке на размер когорты\n",
    "        result = result.div(result['cohort_size'], axis=0)\n",
    "        # исключаем все лайфтаймы, превышающие горизонт анализа\n",
    "        result = result[['cohort_size'] + list(range(horizon_days))]\n",
    "        # восстанавливаем размеры когорт\n",
    "        result['cohort_size'] = cohort_sizes\n",
    "\n",
    "        # собираем датафрейм с данными пользователей и значениями CAC, \n",
    "        # добавляя параметры из dimensions\n",
    "        cac = df[['user_id', 'acquisition_cost'] + dims].drop_duplicates()\n",
    "\n",
    "        # считаем средний CAC по параметрам из dimensions\n",
    "        cac = (\n",
    "            cac.groupby(dims)\n",
    "            .agg({'acquisition_cost': 'mean'})\n",
    "            .rename(columns={'acquisition_cost': 'cac'})\n",
    "        )\n",
    "\n",
    "        # считаем ROI: делим LTV на CAC\n",
    "        roi = result.div(cac['cac'], axis=0)\n",
    "\n",
    "        # удаляем строки с бесконечным ROI\n",
    "        roi = roi[~roi['cohort_size'].isin([np.inf])]\n",
    "\n",
    "        # восстанавливаем размеры когорт в таблице ROI\n",
    "        roi['cohort_size'] = cohort_sizes\n",
    "\n",
    "        # добавляем CAC в таблицу ROI\n",
    "        roi['cac'] = cac['cac']\n",
    "\n",
    "        # в финальной таблице оставляем размеры когорт, CAC\n",
    "        # и ROI в лайфтаймы, не превышающие горизонт анализа\n",
    "        roi = roi[['cohort_size', 'cac'] + list(range(horizon_days))]\n",
    "\n",
    "        # возвращаем таблицы LTV и ROI\n",
    "        return result, roi\n",
    "\n",
    "    # получаем таблицы LTV и ROI\n",
    "    result_grouped, roi_grouped = group_by_dimensions(\n",
    "        result_raw, dimensions, horizon_days\n",
    "    )\n",
    "\n",
    "    # для таблиц динамики убираем 'cohort' из dimensions\n",
    "    if 'cohort' in dimensions:\n",
    "        dimensions = []\n",
    "\n",
    "    # получаем таблицы динамики LTV и ROI\n",
    "    result_in_time, roi_in_time = group_by_dimensions(\n",
    "        result_raw, dimensions + ['dt'], horizon_days\n",
    "    )\n",
    "\n",
    "    return (\n",
    "        result_raw,  # сырые данные\n",
    "        result_grouped,  # таблица LTV\n",
    "        result_in_time,  # таблица динамики LTV\n",
    "        roi_grouped,  # таблица ROI\n",
    "        roi_in_time,  # таблица динамики ROI\n",
    "    )"
   ]
  },
  {
   "cell_type": "code",
   "execution_count": 6,
   "id": "e97378af",
   "metadata": {
    "code_folding": []
   },
   "outputs": [],
   "source": [
    "def filter_data(df, window):\n",
    "    \"\"\"Сглаживание фрейма, скользящее среднее\n",
    "    \n",
    "    :param df: датафрейм\n",
    "    :param window: параметры окна\n",
    "    :return: сглаженный датафрейм\n",
    "    \"\"\"\n",
    "    # для каждого столбца применяем скользящее среднее\n",
    "    for column in df.columns.values:\n",
    "        df[column] = df[column].rolling(window).mean() \n",
    "    return df"
   ]
  },
  {
   "cell_type": "code",
   "execution_count": 7,
   "id": "d7116ec5",
   "metadata": {
    "code_folding": []
   },
   "outputs": [],
   "source": [
    "def plot_retention(retention, retention_history, horizon, window=7):\n",
    "    \"\"\"Визуализация удержания\n",
    "    \n",
    "    :param retention: удержание\n",
    "    :param retention_history: удержание\n",
    "    :param horizon: горизонт анализа\n",
    "    :param window: параметры окна для сглаживания\n",
    "    :return: none\n",
    "    \"\"\"\n",
    "    # задаём размер сетки для графиков\n",
    "    plt.figure(figsize=(15, 10))\n",
    "\n",
    "    # исключаем размеры когорт и удержание первого дня\n",
    "    retention = retention.drop(columns=['cohort_size', 0])\n",
    "    # в таблице динамики оставляем только нужный лайфтайм\n",
    "    retention_history = retention_history.drop(columns=['cohort_size'])[\n",
    "        [horizon - 1]\n",
    "    ]\n",
    "\n",
    "    # если в индексах таблицы удержания только payer,\n",
    "    # добавляем второй признак — cohort\n",
    "    if retention.index.nlevels == 1:\n",
    "        retention['cohort'] = 'All users'\n",
    "        retention = retention.reset_index().set_index(['cohort', 'payer'])\n",
    "\n",
    "    # в таблице графиков — два столбца и две строки, четыре ячейки\n",
    "    # в первой строим кривые удержания платящих пользователей\n",
    "    ax1 = plt.subplot(2, 2, 1)\n",
    "    retention.query('payer == True').droplevel('payer').T.plot(\n",
    "        grid=True, ax=ax1\n",
    "    )\n",
    "    plt.legend()\n",
    "    plt.xlabel('Лайфтайм')\n",
    "    plt.title('Удержание платящих пользователей')\n",
    "\n",
    "    # во второй ячейке строим кривые удержания не платящих\n",
    "    # вертикальная ось — от графика из первой ячейки\n",
    "    ax2 = plt.subplot(2, 2, 2, sharey=ax1)\n",
    "    retention.query('payer == False').droplevel('payer').T.plot(\n",
    "        grid=True, ax=ax2\n",
    "    )\n",
    "    plt.legend()\n",
    "    plt.xlabel('Лайфтайм')\n",
    "    plt.title('Удержание не платящих пользователей')\n",
    "\n",
    "    # в третьей ячейке — динамика удержания платящих\n",
    "    ax3 = plt.subplot(2, 2, 3)\n",
    "    # получаем названия столбцов для сводной таблицы\n",
    "    columns = [\n",
    "        name\n",
    "        for name in retention_history.index.names\n",
    "        if name not in ['dt', 'payer']\n",
    "    ]\n",
    "    # фильтруем данные и строим график\n",
    "    filtered_data = retention_history.query('payer == True').pivot_table(\n",
    "        index='dt', columns=columns, values=horizon - 1, aggfunc='mean'\n",
    "    )\n",
    "    filter_data(filtered_data, window).plot(grid=True, ax=ax3)\n",
    "    plt.xlabel('Дата привлечения')\n",
    "    plt.title(\n",
    "        'Динамика удержания платящих пользователей на {}-й день'.format(\n",
    "            horizon\n",
    "        )\n",
    "    )\n",
    "\n",
    "    # в четвёртой ячейке — динамика удержания не платящих\n",
    "    ax4 = plt.subplot(2, 2, 4, sharey=ax3)\n",
    "    # фильтруем данные и строим график\n",
    "    filtered_data = retention_history.query('payer == False').pivot_table(\n",
    "        index='dt', columns=columns, values=horizon - 1, aggfunc='mean'\n",
    "    )\n",
    "    filter_data(filtered_data, window).plot(grid=True, ax=ax4)\n",
    "    plt.xlabel('Дата привлечения')\n",
    "    plt.title(\n",
    "        'Динамика удержания не платящих пользователей на {}-й день'.format(\n",
    "            horizon\n",
    "        )\n",
    "    )\n",
    "    \n",
    "    plt.tight_layout()\n",
    "    plt.show()"
   ]
  },
  {
   "cell_type": "code",
   "execution_count": 8,
   "id": "cf46c7f7",
   "metadata": {
    "code_folding": []
   },
   "outputs": [],
   "source": [
    "# функция для визуализации конверсии\n",
    "\n",
    "def plot_conversion(conversion, conversion_history, horizon, window=7):\n",
    "    \"\"\"Визуализация конверсии\n",
    "        \n",
    "    :param conversion: конверсия\n",
    "    :param conversion_history: конверсия\n",
    "    :param horizon: горизонт анализа\n",
    "    :param window: параметры окна для сглаживания\n",
    "    :return: none\n",
    "    \"\"\"\n",
    "    # задаём размер сетки для графиков\n",
    "    plt.figure(figsize=(15, 5))\n",
    "\n",
    "    # исключаем размеры когорт\n",
    "    conversion = conversion.drop(columns=['cohort_size'])\n",
    "    # в таблице динамики оставляем только нужный лайфтайм\n",
    "    conversion_history = conversion_history.drop(columns=['cohort_size'])[\n",
    "        [horizon - 1]\n",
    "    ]\n",
    "\n",
    "    # первый график — кривые конверсии\n",
    "    ax1 = plt.subplot(1, 2, 1)\n",
    "    conversion.T.plot(grid=True, ax=ax1)\n",
    "    plt.legend()\n",
    "    plt.xlabel('Лайфтайм')\n",
    "    plt.title('Конверсия пользователей')\n",
    "\n",
    "    # второй график — динамика конверсии\n",
    "    ax2 = plt.subplot(1, 2, 2, sharey=ax1)\n",
    "    columns = [\n",
    "        # столбцами сводной таблицы станут все столбцы индекса, кроме даты\n",
    "        name for name in conversion_history.index.names if name not in ['dt']\n",
    "    ]\n",
    "    filtered_data = conversion_history.pivot_table(\n",
    "        index='dt', columns=columns, values=horizon - 1, aggfunc='mean'\n",
    "    )\n",
    "    filter_data(filtered_data, window).plot(grid=True, ax=ax2)\n",
    "    plt.xlabel('Дата привлечения')\n",
    "    plt.title('Динамика конверсии пользователей на {}-й день'.format(horizon))\n",
    "\n",
    "    plt.tight_layout()\n",
    "    plt.show()"
   ]
  },
  {
   "cell_type": "code",
   "execution_count": 9,
   "id": "165d9144",
   "metadata": {
    "code_folding": []
   },
   "outputs": [],
   "source": [
    "# функция для визуализации LTV и ROI\n",
    "\n",
    "def plot_ltv_roi(ltv, ltv_history, roi, roi_history, horizon, window=7):\n",
    "    \"\"\"Визуализация LTV и ROI\n",
    "    \n",
    "    :param ltv: LTV\n",
    "    :param ltv_history: LTV\n",
    "    :param roi: ROI\n",
    "    :param roi_history: ROI \n",
    "    :param horizon: горизонт анализа\n",
    "    :param window: параметры окна для сглаживания\n",
    "    :return: none\n",
    "    \"\"\"\n",
    "    # задаём сетку отрисовки графиков\n",
    "    plt.figure(figsize=(20, 10))\n",
    "\n",
    "    # из таблицы ltv исключаем размеры когорт\n",
    "    ltv = ltv.drop(columns=['cohort_size'])\n",
    "    # в таблице динамики ltv оставляем только нужный лайфтайм\n",
    "    ltv_history = ltv_history.drop(columns=['cohort_size'])[[horizon - 1]]\n",
    "\n",
    "    # стоимость привлечения запишем в отдельный фрейм\n",
    "    cac_history = roi_history[['cac']]\n",
    "\n",
    "    # из таблицы roi исключаем размеры когорт и cac\n",
    "    roi = roi.drop(columns=['cohort_size', 'cac'])\n",
    "    # в таблице динамики roi оставляем только нужный лайфтайм\n",
    "    roi_history = roi_history.drop(columns=['cohort_size', 'cac'])[\n",
    "        [horizon - 1]\n",
    "    ]\n",
    "\n",
    "    # первый график — кривые ltv\n",
    "    ax1 = plt.subplot(2, 3, 1)\n",
    "    ltv.T.plot(grid=True, ax=ax1)\n",
    "    plt.legend()\n",
    "    plt.xlabel('Лайфтайм')\n",
    "    plt.title('LTV')\n",
    "\n",
    "    # второй график — динамика ltv\n",
    "    ax2 = plt.subplot(2, 3, 2, sharey=ax1)\n",
    "    # столбцами сводной таблицы станут все столбцы индекса, кроме даты\n",
    "    columns = [name for name in ltv_history.index.names if name not in ['dt']]\n",
    "    filtered_data = ltv_history.pivot_table(\n",
    "        index='dt', columns=columns, values=horizon - 1, aggfunc='mean'\n",
    "    )\n",
    "    filter_data(filtered_data, window).plot(grid=True, ax=ax2)\n",
    "    plt.xlabel('Дата привлечения')\n",
    "    plt.title('Динамика LTV пользователей на {}-й день'.format(horizon))\n",
    "\n",
    "    # третий график — динамика cac\n",
    "    ax3 = plt.subplot(2, 3, 3, sharey=ax1)\n",
    "    # столбцами сводной таблицы станут все столбцы индекса, кроме даты\n",
    "    columns = [name for name in cac_history.index.names if name not in ['dt']]\n",
    "    filtered_data = cac_history.pivot_table(\n",
    "        index='dt', columns=columns, values='cac', aggfunc='mean'\n",
    "    )\n",
    "    filter_data(filtered_data, window).plot(grid=True, ax=ax3)\n",
    "    plt.xlabel('Дата привлечения')\n",
    "    plt.title('Динамика стоимости привлечения пользователей')\n",
    "\n",
    "    # четвёртый график — кривые roi\n",
    "    ax4 = plt.subplot(2, 3, 4)\n",
    "    roi.T.plot(grid=True, ax=ax4)\n",
    "    plt.axhline(y=1, color='red', linestyle='--', label='Уровень окупаемости')\n",
    "    plt.legend()\n",
    "    plt.xlabel('Лайфтайм')\n",
    "    plt.title('ROI')\n",
    "\n",
    "    # пятый график — динамика roi\n",
    "    ax5 = plt.subplot(2, 3, 5, sharey=ax4)\n",
    "    # столбцами сводной таблицы станут все столбцы индекса, кроме даты\n",
    "    columns = [name for name in roi_history.index.names if name not in ['dt']]\n",
    "    filtered_data = roi_history.pivot_table(\n",
    "        index='dt', columns=columns, values=horizon - 1, aggfunc='mean'\n",
    "    )\n",
    "    filter_data(filtered_data, window).plot(grid=True, ax=ax5)\n",
    "    plt.axhline(y=1, color='red', linestyle='--', label='Уровень окупаемости')\n",
    "    plt.xlabel('Дата привлечения')\n",
    "    plt.title('Динамика ROI пользователей на {}-й день'.format(horizon))\n",
    "\n",
    "    plt.tight_layout()\n",
    "    plt.show()"
   ]
  },
  {
   "cell_type": "code",
   "execution_count": 10,
   "id": "8447ddc6",
   "metadata": {
    "code_folding": []
   },
   "outputs": [],
   "source": [
    "def change_col(df):\n",
    "    \"\"\"Приведение названий столбцов к snake_case\n",
    "    \n",
    "    :param df: датафрейм\n",
    "    :return: none\n",
    "    \"\"\"\n",
    "    cnames = []\n",
    "    for i in range(len(df.columns)):\n",
    "        cnames.append(df.columns[i].lower().replace(' ', '_'))\n",
    "    df.columns = cnames"
   ]
  },
  {
   "cell_type": "markdown",
   "id": "db112183",
   "metadata": {},
   "source": [
    "### Загрузка и подготовка данных"
   ]
  },
  {
   "cell_type": "code",
   "execution_count": 11,
   "id": "992c7759",
   "metadata": {
    "code_folding": []
   },
   "outputs": [],
   "source": [
    "# Загрузка данных\n",
    "try:\n",
    "    visits, orders, costs = (\n",
    "        pd.read_csv('visits_info_short.csv'),\n",
    "        pd.read_csv('orders_info_short.csv'),\n",
    "        pd.read_csv('costs_info_short.csv')\n",
    "    )\n",
    "except FileNotFoundError:\n",
    "    visits, orders, costs = (\n",
    "        pd.read_csv('/datasets/visits_info_short.csv'),\n",
    "        pd.read_csv('/datasets/orders_info_short.csv'),\n",
    "        pd.read_csv('/datasets/costs_info_short.csv')\n",
    "    )"
   ]
  },
  {
   "cell_type": "markdown",
   "id": "a7281e3c",
   "metadata": {},
   "source": [
    "Посмотрим таблицы."
   ]
  },
  {
   "cell_type": "code",
   "execution_count": 12,
   "id": "d5e941ce",
   "metadata": {},
   "outputs": [
    {
     "data": {
      "text/html": [
       "<div>\n",
       "<style scoped>\n",
       "    .dataframe tbody tr th:only-of-type {\n",
       "        vertical-align: middle;\n",
       "    }\n",
       "\n",
       "    .dataframe tbody tr th {\n",
       "        vertical-align: top;\n",
       "    }\n",
       "\n",
       "    .dataframe thead th {\n",
       "        text-align: right;\n",
       "    }\n",
       "</style>\n",
       "<table border=\"1\" class=\"dataframe\">\n",
       "  <thead>\n",
       "    <tr style=\"text-align: right;\">\n",
       "      <th></th>\n",
       "      <th>User Id</th>\n",
       "      <th>Region</th>\n",
       "      <th>Device</th>\n",
       "      <th>Channel</th>\n",
       "      <th>Session Start</th>\n",
       "      <th>Session End</th>\n",
       "    </tr>\n",
       "  </thead>\n",
       "  <tbody>\n",
       "    <tr>\n",
       "      <td>0</td>\n",
       "      <td>981449118918</td>\n",
       "      <td>United States</td>\n",
       "      <td>iPhone</td>\n",
       "      <td>organic</td>\n",
       "      <td>2019-05-01 02:36:01</td>\n",
       "      <td>2019-05-01 02:45:01</td>\n",
       "    </tr>\n",
       "    <tr>\n",
       "      <td>1</td>\n",
       "      <td>278965908054</td>\n",
       "      <td>United States</td>\n",
       "      <td>iPhone</td>\n",
       "      <td>organic</td>\n",
       "      <td>2019-05-01 04:46:31</td>\n",
       "      <td>2019-05-01 04:47:35</td>\n",
       "    </tr>\n",
       "    <tr>\n",
       "      <td>2</td>\n",
       "      <td>590706206550</td>\n",
       "      <td>United States</td>\n",
       "      <td>Mac</td>\n",
       "      <td>organic</td>\n",
       "      <td>2019-05-01 14:09:25</td>\n",
       "      <td>2019-05-01 15:32:08</td>\n",
       "    </tr>\n",
       "    <tr>\n",
       "      <td>3</td>\n",
       "      <td>326433527971</td>\n",
       "      <td>United States</td>\n",
       "      <td>Android</td>\n",
       "      <td>TipTop</td>\n",
       "      <td>2019-05-01 00:29:59</td>\n",
       "      <td>2019-05-01 00:54:25</td>\n",
       "    </tr>\n",
       "    <tr>\n",
       "      <td>4</td>\n",
       "      <td>349773784594</td>\n",
       "      <td>United States</td>\n",
       "      <td>Mac</td>\n",
       "      <td>organic</td>\n",
       "      <td>2019-05-01 03:33:35</td>\n",
       "      <td>2019-05-01 03:57:40</td>\n",
       "    </tr>\n",
       "  </tbody>\n",
       "</table>\n",
       "</div>"
      ],
      "text/plain": [
       "        User Id         Region   Device  Channel        Session Start  \\\n",
       "0  981449118918  United States   iPhone  organic  2019-05-01 02:36:01   \n",
       "1  278965908054  United States   iPhone  organic  2019-05-01 04:46:31   \n",
       "2  590706206550  United States      Mac  organic  2019-05-01 14:09:25   \n",
       "3  326433527971  United States  Android   TipTop  2019-05-01 00:29:59   \n",
       "4  349773784594  United States      Mac  organic  2019-05-01 03:33:35   \n",
       "\n",
       "           Session End  \n",
       "0  2019-05-01 02:45:01  \n",
       "1  2019-05-01 04:47:35  \n",
       "2  2019-05-01 15:32:08  \n",
       "3  2019-05-01 00:54:25  \n",
       "4  2019-05-01 03:57:40  "
      ]
     },
     "metadata": {},
     "output_type": "display_data"
    },
    {
     "name": "stdout",
     "output_type": "stream",
     "text": [
      "<class 'pandas.core.frame.DataFrame'>\n",
      "RangeIndex: 309901 entries, 0 to 309900\n",
      "Data columns (total 6 columns):\n",
      "User Id          309901 non-null int64\n",
      "Region           309901 non-null object\n",
      "Device           309901 non-null object\n",
      "Channel          309901 non-null object\n",
      "Session Start    309901 non-null object\n",
      "Session End      309901 non-null object\n",
      "dtypes: int64(1), object(5)\n",
      "memory usage: 14.2+ MB\n"
     ]
    },
    {
     "data": {
      "text/plain": [
       "(None, None)"
      ]
     },
     "execution_count": 12,
     "metadata": {},
     "output_type": "execute_result"
    }
   ],
   "source": [
    "display(visits.head(5)), visits.info()"
   ]
  },
  {
   "cell_type": "code",
   "execution_count": 13,
   "id": "9820c250",
   "metadata": {},
   "outputs": [
    {
     "data": {
      "text/html": [
       "<div>\n",
       "<style scoped>\n",
       "    .dataframe tbody tr th:only-of-type {\n",
       "        vertical-align: middle;\n",
       "    }\n",
       "\n",
       "    .dataframe tbody tr th {\n",
       "        vertical-align: top;\n",
       "    }\n",
       "\n",
       "    .dataframe thead th {\n",
       "        text-align: right;\n",
       "    }\n",
       "</style>\n",
       "<table border=\"1\" class=\"dataframe\">\n",
       "  <thead>\n",
       "    <tr style=\"text-align: right;\">\n",
       "      <th></th>\n",
       "      <th>User Id</th>\n",
       "      <th>Event Dt</th>\n",
       "      <th>Revenue</th>\n",
       "    </tr>\n",
       "  </thead>\n",
       "  <tbody>\n",
       "    <tr>\n",
       "      <td>0</td>\n",
       "      <td>188246423999</td>\n",
       "      <td>2019-05-01 23:09:52</td>\n",
       "      <td>4.99</td>\n",
       "    </tr>\n",
       "    <tr>\n",
       "      <td>1</td>\n",
       "      <td>174361394180</td>\n",
       "      <td>2019-05-01 12:24:04</td>\n",
       "      <td>4.99</td>\n",
       "    </tr>\n",
       "    <tr>\n",
       "      <td>2</td>\n",
       "      <td>529610067795</td>\n",
       "      <td>2019-05-01 11:34:04</td>\n",
       "      <td>4.99</td>\n",
       "    </tr>\n",
       "    <tr>\n",
       "      <td>3</td>\n",
       "      <td>319939546352</td>\n",
       "      <td>2019-05-01 15:34:40</td>\n",
       "      <td>4.99</td>\n",
       "    </tr>\n",
       "    <tr>\n",
       "      <td>4</td>\n",
       "      <td>366000285810</td>\n",
       "      <td>2019-05-01 13:59:51</td>\n",
       "      <td>4.99</td>\n",
       "    </tr>\n",
       "  </tbody>\n",
       "</table>\n",
       "</div>"
      ],
      "text/plain": [
       "        User Id             Event Dt  Revenue\n",
       "0  188246423999  2019-05-01 23:09:52     4.99\n",
       "1  174361394180  2019-05-01 12:24:04     4.99\n",
       "2  529610067795  2019-05-01 11:34:04     4.99\n",
       "3  319939546352  2019-05-01 15:34:40     4.99\n",
       "4  366000285810  2019-05-01 13:59:51     4.99"
      ]
     },
     "metadata": {},
     "output_type": "display_data"
    },
    {
     "name": "stdout",
     "output_type": "stream",
     "text": [
      "<class 'pandas.core.frame.DataFrame'>\n",
      "RangeIndex: 40212 entries, 0 to 40211\n",
      "Data columns (total 3 columns):\n",
      "User Id     40212 non-null int64\n",
      "Event Dt    40212 non-null object\n",
      "Revenue     40212 non-null float64\n",
      "dtypes: float64(1), int64(1), object(1)\n",
      "memory usage: 942.6+ KB\n"
     ]
    },
    {
     "data": {
      "text/plain": [
       "(None, None)"
      ]
     },
     "execution_count": 13,
     "metadata": {},
     "output_type": "execute_result"
    }
   ],
   "source": [
    "display(orders.head(5)), orders.info()"
   ]
  },
  {
   "cell_type": "code",
   "execution_count": 14,
   "id": "5ae841c6",
   "metadata": {
    "scrolled": false
   },
   "outputs": [
    {
     "data": {
      "text/html": [
       "<div>\n",
       "<style scoped>\n",
       "    .dataframe tbody tr th:only-of-type {\n",
       "        vertical-align: middle;\n",
       "    }\n",
       "\n",
       "    .dataframe tbody tr th {\n",
       "        vertical-align: top;\n",
       "    }\n",
       "\n",
       "    .dataframe thead th {\n",
       "        text-align: right;\n",
       "    }\n",
       "</style>\n",
       "<table border=\"1\" class=\"dataframe\">\n",
       "  <thead>\n",
       "    <tr style=\"text-align: right;\">\n",
       "      <th></th>\n",
       "      <th>dt</th>\n",
       "      <th>Channel</th>\n",
       "      <th>costs</th>\n",
       "    </tr>\n",
       "  </thead>\n",
       "  <tbody>\n",
       "    <tr>\n",
       "      <td>0</td>\n",
       "      <td>2019-05-01</td>\n",
       "      <td>FaceBoom</td>\n",
       "      <td>113.3</td>\n",
       "    </tr>\n",
       "    <tr>\n",
       "      <td>1</td>\n",
       "      <td>2019-05-02</td>\n",
       "      <td>FaceBoom</td>\n",
       "      <td>78.1</td>\n",
       "    </tr>\n",
       "    <tr>\n",
       "      <td>2</td>\n",
       "      <td>2019-05-03</td>\n",
       "      <td>FaceBoom</td>\n",
       "      <td>85.8</td>\n",
       "    </tr>\n",
       "    <tr>\n",
       "      <td>3</td>\n",
       "      <td>2019-05-04</td>\n",
       "      <td>FaceBoom</td>\n",
       "      <td>136.4</td>\n",
       "    </tr>\n",
       "    <tr>\n",
       "      <td>4</td>\n",
       "      <td>2019-05-05</td>\n",
       "      <td>FaceBoom</td>\n",
       "      <td>122.1</td>\n",
       "    </tr>\n",
       "  </tbody>\n",
       "</table>\n",
       "</div>"
      ],
      "text/plain": [
       "           dt   Channel  costs\n",
       "0  2019-05-01  FaceBoom  113.3\n",
       "1  2019-05-02  FaceBoom   78.1\n",
       "2  2019-05-03  FaceBoom   85.8\n",
       "3  2019-05-04  FaceBoom  136.4\n",
       "4  2019-05-05  FaceBoom  122.1"
      ]
     },
     "metadata": {},
     "output_type": "display_data"
    },
    {
     "name": "stdout",
     "output_type": "stream",
     "text": [
      "<class 'pandas.core.frame.DataFrame'>\n",
      "RangeIndex: 1800 entries, 0 to 1799\n",
      "Data columns (total 3 columns):\n",
      "dt         1800 non-null object\n",
      "Channel    1800 non-null object\n",
      "costs      1800 non-null float64\n",
      "dtypes: float64(1), object(2)\n",
      "memory usage: 42.3+ KB\n"
     ]
    },
    {
     "data": {
      "text/plain": [
       "(None, None)"
      ]
     },
     "execution_count": 14,
     "metadata": {},
     "output_type": "execute_result"
    }
   ],
   "source": [
    "display(costs.head(5)), costs.info()"
   ]
  },
  {
   "cell_type": "markdown",
   "id": "4e6893d2",
   "metadata": {},
   "source": [
    "Далее поправим названия столбцов, типы данных, проверим дубликаты."
   ]
  },
  {
   "cell_type": "markdown",
   "id": "9241095d",
   "metadata": {},
   "source": [
    "#### Исправление названий столбцов"
   ]
  },
  {
   "cell_type": "code",
   "execution_count": 15,
   "id": "71c9938f",
   "metadata": {},
   "outputs": [],
   "source": [
    "change_col(visits)\n",
    "change_col(orders)\n",
    "change_col(costs)"
   ]
  },
  {
   "cell_type": "markdown",
   "id": "1561ef70",
   "metadata": {},
   "source": [
    "#### Изменение типов данных"
   ]
  },
  {
   "cell_type": "markdown",
   "id": "a4cd8ae3",
   "metadata": {},
   "source": [
    "Во всех таблицах даты приведём к datetime."
   ]
  },
  {
   "cell_type": "code",
   "execution_count": 16,
   "id": "96e4fa46",
   "metadata": {},
   "outputs": [],
   "source": [
    "visits['session_start'] = pd.to_datetime(visits['session_start'])\n",
    "visits['session_end'] = pd.to_datetime(visits['session_end'])\n",
    "orders['event_dt'] = pd.to_datetime(orders['event_dt'])\n",
    "costs['dt'] = pd.to_datetime(costs['dt']).dt.date"
   ]
  },
  {
   "cell_type": "markdown",
   "id": "4424bc29",
   "metadata": {},
   "source": [
    "#### Проверка дубликатов"
   ]
  },
  {
   "cell_type": "code",
   "execution_count": 17,
   "id": "2eea3b27",
   "metadata": {
    "code_folding": [
     0
    ]
   },
   "outputs": [
    {
     "name": "stdout",
     "output_type": "stream",
     "text": [
      "Дубликатов в таблице visits: 0.\n",
      "Дубликатов в таблице orders: 0.\n",
      "Дубликатов в таблице costs: 0.\n"
     ]
    }
   ],
   "source": [
    "# проверка дубликатов\n",
    "data = [visits, orders, costs]\n",
    "visits.name = 'visits'\n",
    "orders.name = 'orders'\n",
    "costs.name ='costs'\n",
    "for frame in data:\n",
    "    dbl = frame[frame.duplicated()][frame.columns[0]].count()\n",
    "    print(f'Дубликатов в таблице {frame.name}: {dbl}.')"
   ]
  },
  {
   "cell_type": "markdown",
   "id": "0c4bf7bf",
   "metadata": {},
   "source": [
    "#### Просмотр уникальных значений"
   ]
  },
  {
   "cell_type": "markdown",
   "id": "22b2ec4a",
   "metadata": {},
   "source": [
    "Проверим уникальные значения по категориальным полям в каждой таблице."
   ]
  },
  {
   "cell_type": "code",
   "execution_count": 18,
   "id": "5ad7f791",
   "metadata": {},
   "outputs": [
    {
     "name": "stdout",
     "output_type": "stream",
     "text": [
      "['France' 'Germany' 'UK' 'United States']\n",
      "==================================\n",
      "['Android' 'Mac' 'PC' 'iPhone']\n",
      "==================================\n",
      "['AdNonSense' 'FaceBoom' 'LeapBob' 'MediaTornado' 'OppleCreativeMedia'\n",
      " 'RocketSuperAds' 'TipTop' 'WahooNetBanner' 'YRabbit' 'lambdaMediaAds'\n",
      " 'organic']\n",
      "==================================\n"
     ]
    }
   ],
   "source": [
    "for col in ['region', 'device', 'channel']:\n",
    "    print(visits[col].sort_values().unique())\n",
    "    print('==================================')"
   ]
  },
  {
   "cell_type": "code",
   "execution_count": 19,
   "id": "52b631ba",
   "metadata": {},
   "outputs": [
    {
     "name": "stdout",
     "output_type": "stream",
     "text": [
      "['AdNonSense' 'FaceBoom' 'LeapBob' 'MediaTornado' 'OppleCreativeMedia'\n",
      " 'RocketSuperAds' 'TipTop' 'WahooNetBanner' 'YRabbit' 'lambdaMediaAds']\n"
     ]
    }
   ],
   "source": [
    "print(costs['channel'].sort_values().unique())"
   ]
  },
  {
   "cell_type": "markdown",
   "id": "7ec7f43d",
   "metadata": {},
   "source": [
    "Сравним каналы в `visits` и `costs`."
   ]
  },
  {
   "cell_type": "code",
   "execution_count": 20,
   "id": "5f78907d",
   "metadata": {},
   "outputs": [
    {
     "name": "stdout",
     "output_type": "stream",
     "text": [
      "{'organic'}\n"
     ]
    }
   ],
   "source": [
    "print(set(visits['channel'].unique()) - set(costs['channel'].unique()))"
   ]
  },
  {
   "cell_type": "markdown",
   "id": "1ef43860",
   "metadata": {},
   "source": [
    "Уникальные каналы в таблице с сессиями и затратами одни и те же, отличие только в органике, затраты на которую не посчитать."
   ]
  },
  {
   "cell_type": "markdown",
   "id": "ea4dfaca",
   "metadata": {},
   "source": [
    "## Исследовательский анализ данных"
   ]
  },
  {
   "cell_type": "markdown",
   "id": "3398d316",
   "metadata": {},
   "source": [
    "В разделе исследованы клиенты приложения.<br>\n",
    "Рассмотрено, какими устройствами пользуются клиенты, из каких они регионов и какие каналы привели их в приложение."
   ]
  },
  {
   "cell_type": "markdown",
   "id": "30f2aa52",
   "metadata": {},
   "source": [
    "### Пользовательские профили"
   ]
  },
  {
   "cell_type": "code",
   "execution_count": 21,
   "id": "f4330e21",
   "metadata": {},
   "outputs": [
    {
     "data": {
      "text/html": [
       "<div>\n",
       "<style scoped>\n",
       "    .dataframe tbody tr th:only-of-type {\n",
       "        vertical-align: middle;\n",
       "    }\n",
       "\n",
       "    .dataframe tbody tr th {\n",
       "        vertical-align: top;\n",
       "    }\n",
       "\n",
       "    .dataframe thead th {\n",
       "        text-align: right;\n",
       "    }\n",
       "</style>\n",
       "<table border=\"1\" class=\"dataframe\">\n",
       "  <thead>\n",
       "    <tr style=\"text-align: right;\">\n",
       "      <th></th>\n",
       "      <th>user_id</th>\n",
       "      <th>first_ts</th>\n",
       "      <th>channel</th>\n",
       "      <th>device</th>\n",
       "      <th>region</th>\n",
       "      <th>dt</th>\n",
       "      <th>month</th>\n",
       "      <th>payer</th>\n",
       "      <th>acquisition_cost</th>\n",
       "    </tr>\n",
       "  </thead>\n",
       "  <tbody>\n",
       "    <tr>\n",
       "      <td>0</td>\n",
       "      <td>599326</td>\n",
       "      <td>2019-05-07 20:58:57</td>\n",
       "      <td>FaceBoom</td>\n",
       "      <td>Mac</td>\n",
       "      <td>United States</td>\n",
       "      <td>2019-05-07</td>\n",
       "      <td>2019-05-01</td>\n",
       "      <td>True</td>\n",
       "      <td>1.088172</td>\n",
       "    </tr>\n",
       "    <tr>\n",
       "      <td>1</td>\n",
       "      <td>4919697</td>\n",
       "      <td>2019-07-09 12:46:07</td>\n",
       "      <td>FaceBoom</td>\n",
       "      <td>iPhone</td>\n",
       "      <td>United States</td>\n",
       "      <td>2019-07-09</td>\n",
       "      <td>2019-07-01</td>\n",
       "      <td>False</td>\n",
       "      <td>1.107237</td>\n",
       "    </tr>\n",
       "    <tr>\n",
       "      <td>2</td>\n",
       "      <td>6085896</td>\n",
       "      <td>2019-10-01 09:58:33</td>\n",
       "      <td>organic</td>\n",
       "      <td>iPhone</td>\n",
       "      <td>France</td>\n",
       "      <td>2019-10-01</td>\n",
       "      <td>2019-10-01</td>\n",
       "      <td>False</td>\n",
       "      <td>0.000000</td>\n",
       "    </tr>\n",
       "    <tr>\n",
       "      <td>3</td>\n",
       "      <td>22593348</td>\n",
       "      <td>2019-08-22 21:35:48</td>\n",
       "      <td>AdNonSense</td>\n",
       "      <td>PC</td>\n",
       "      <td>Germany</td>\n",
       "      <td>2019-08-22</td>\n",
       "      <td>2019-08-01</td>\n",
       "      <td>False</td>\n",
       "      <td>0.988235</td>\n",
       "    </tr>\n",
       "    <tr>\n",
       "      <td>4</td>\n",
       "      <td>31989216</td>\n",
       "      <td>2019-10-02 00:07:44</td>\n",
       "      <td>YRabbit</td>\n",
       "      <td>iPhone</td>\n",
       "      <td>United States</td>\n",
       "      <td>2019-10-02</td>\n",
       "      <td>2019-10-01</td>\n",
       "      <td>False</td>\n",
       "      <td>0.230769</td>\n",
       "    </tr>\n",
       "  </tbody>\n",
       "</table>\n",
       "</div>"
      ],
      "text/plain": [
       "    user_id            first_ts     channel  device         region  \\\n",
       "0    599326 2019-05-07 20:58:57    FaceBoom     Mac  United States   \n",
       "1   4919697 2019-07-09 12:46:07    FaceBoom  iPhone  United States   \n",
       "2   6085896 2019-10-01 09:58:33     organic  iPhone         France   \n",
       "3  22593348 2019-08-22 21:35:48  AdNonSense      PC        Germany   \n",
       "4  31989216 2019-10-02 00:07:44     YRabbit  iPhone  United States   \n",
       "\n",
       "           dt      month  payer  acquisition_cost  \n",
       "0  2019-05-07 2019-05-01   True          1.088172  \n",
       "1  2019-07-09 2019-07-01  False          1.107237  \n",
       "2  2019-10-01 2019-10-01  False          0.000000  \n",
       "3  2019-08-22 2019-08-01  False          0.988235  \n",
       "4  2019-10-02 2019-10-01  False          0.230769  "
      ]
     },
     "metadata": {},
     "output_type": "display_data"
    },
    {
     "name": "stdout",
     "output_type": "stream",
     "text": [
      "<class 'pandas.core.frame.DataFrame'>\n",
      "Int64Index: 150008 entries, 0 to 150007\n",
      "Data columns (total 9 columns):\n",
      "user_id             150008 non-null int64\n",
      "first_ts            150008 non-null datetime64[ns]\n",
      "channel             150008 non-null object\n",
      "device              150008 non-null object\n",
      "region              150008 non-null object\n",
      "dt                  150008 non-null object\n",
      "month               150008 non-null datetime64[ns]\n",
      "payer               150008 non-null bool\n",
      "acquisition_cost    150008 non-null float64\n",
      "dtypes: bool(1), datetime64[ns](2), float64(1), int64(1), object(4)\n",
      "memory usage: 10.4+ MB\n"
     ]
    },
    {
     "data": {
      "text/plain": [
       "(None, None)"
      ]
     },
     "execution_count": 21,
     "metadata": {},
     "output_type": "execute_result"
    }
   ],
   "source": [
    "profiles = get_profiles(visits, orders, costs)\n",
    "display(profiles.head()), profiles.info()"
   ]
  },
  {
   "cell_type": "code",
   "execution_count": 22,
   "id": "993cd766",
   "metadata": {
    "scrolled": true
   },
   "outputs": [
    {
     "name": "stdout",
     "output_type": "stream",
     "text": [
      "Максимальная дата привлечения пользователей: 2019-10-27\n",
      "Минимальная дата привлечения пользователей: 2019-05-01\n"
     ]
    }
   ],
   "source": [
    "print('Максимальная дата привлечения пользователей: {}'.format(profiles['first_ts'].dt.date.max()))\n",
    "print('Минимальная дата привлечения пользователей: {}'.format(profiles['first_ts'].dt.date.min()))"
   ]
  },
  {
   "cell_type": "markdown",
   "id": "d387b6db",
   "metadata": {},
   "source": [
    "### Пользователи по регионам"
   ]
  },
  {
   "cell_type": "code",
   "execution_count": 23,
   "id": "ee3cc858",
   "metadata": {
    "code_folding": [
     0
    ]
   },
   "outputs": [
    {
     "data": {
      "image/png": "[encoded data removed]",
      "text/plain": [
       "<Figure size 576x288 with 2 Axes>"
      ]
     },
     "metadata": {
      "needs_background": "light"
     },
     "output_type": "display_data"
    }
   ],
   "source": [
    "# Платящие пользователи по странам\n",
    "plt.figure(figsize=(8, 4))\n",
    "\n",
    "ax1 = plt.subplot(1, 2, 1)\n",
    "(\n",
    "    profiles\n",
    "    .groupby('region').agg({'user_id' :'count'})\n",
    "    .sort_values(by='user_id', ascending=False)\n",
    "    .rename(columns={'user_id': 'paying_users'})\n",
    "    .plot(kind='bar', grid=True, legend=False, ax=ax1)\n",
    ")\n",
    "plt.title('Пользователи по странам')\n",
    "plt.ylabel('Число пользователей')\n",
    "plt.xlabel('')\n",
    "plt.xticks(rotation = 0)\n",
    "\n",
    "ax2 = plt.subplot(1, 2, 2, sharey = ax1)\n",
    "(\n",
    "     profiles.query('payer == True')\n",
    "    .groupby('region').agg({'user_id' :'count'})\n",
    "    .sort_values(by='user_id', ascending=False)\n",
    "    .rename(columns={'user_id': 'paying_users'})\n",
    "    .plot(kind='bar', grid=True, legend=False, ax=ax2)\n",
    ")\n",
    "plt.title('Платящие пользователи по странам')\n",
    "plt.ylabel('Число пользователей')\n",
    "plt.xlabel('')\n",
    "plt.xticks(rotation = 0)\n",
    "\n",
    "plt.tight_layout()\n",
    "plt.show()"
   ]
  },
  {
   "cell_type": "code",
   "execution_count": 24,
   "id": "a35c4b95",
   "metadata": {
    "code_folding": [
     0
    ]
   },
   "outputs": [
    {
     "data": {
      "text/html": [
       "<div>\n",
       "<style scoped>\n",
       "    .dataframe tbody tr th:only-of-type {\n",
       "        vertical-align: middle;\n",
       "    }\n",
       "\n",
       "    .dataframe tbody tr th {\n",
       "        vertical-align: top;\n",
       "    }\n",
       "\n",
       "    .dataframe thead th {\n",
       "        text-align: right;\n",
       "    }\n",
       "</style>\n",
       "<table border=\"1\" class=\"dataframe\">\n",
       "  <thead>\n",
       "    <tr style=\"text-align: right;\">\n",
       "      <th></th>\n",
       "      <th>all_users</th>\n",
       "      <th>paying_users</th>\n",
       "      <th>conversion, %</th>\n",
       "      <th>share_of_paying_users, %</th>\n",
       "    </tr>\n",
       "    <tr>\n",
       "      <th>region</th>\n",
       "      <th></th>\n",
       "      <th></th>\n",
       "      <th></th>\n",
       "      <th></th>\n",
       "    </tr>\n",
       "  </thead>\n",
       "  <tbody>\n",
       "    <tr>\n",
       "      <td>United States</td>\n",
       "      <td>100002</td>\n",
       "      <td>6902</td>\n",
       "      <td>6.90</td>\n",
       "      <td>77.72</td>\n",
       "    </tr>\n",
       "    <tr>\n",
       "      <td>UK</td>\n",
       "      <td>17575</td>\n",
       "      <td>700</td>\n",
       "      <td>3.98</td>\n",
       "      <td>7.88</td>\n",
       "    </tr>\n",
       "    <tr>\n",
       "      <td>France</td>\n",
       "      <td>17450</td>\n",
       "      <td>663</td>\n",
       "      <td>3.80</td>\n",
       "      <td>7.47</td>\n",
       "    </tr>\n",
       "    <tr>\n",
       "      <td>Germany</td>\n",
       "      <td>14981</td>\n",
       "      <td>616</td>\n",
       "      <td>4.11</td>\n",
       "      <td>6.94</td>\n",
       "    </tr>\n",
       "  </tbody>\n",
       "</table>\n",
       "</div>"
      ],
      "text/plain": [
       "               all_users  paying_users  conversion, %  \\\n",
       "region                                                  \n",
       "United States     100002          6902           6.90   \n",
       "UK                 17575           700           3.98   \n",
       "France             17450           663           3.80   \n",
       "Germany            14981           616           4.11   \n",
       "\n",
       "               share_of_paying_users, %  \n",
       "region                                   \n",
       "United States                     77.72  \n",
       "UK                                 7.88  \n",
       "France                             7.47  \n",
       "Germany                            6.94  "
      ]
     },
     "execution_count": 24,
     "metadata": {},
     "output_type": "execute_result"
    }
   ],
   "source": [
    "# доля платящих пользователей\n",
    "countries = (\n",
    "    profiles.groupby('region').agg({'user_id': 'count'})\n",
    "    .merge(\n",
    "        profiles.query('payer == True').groupby('region').agg({'user_id': 'count'}),\n",
    "        on='region',\n",
    "        how='left'\n",
    "    )\n",
    ")\n",
    "countries.columns=['all_users', 'paying_users']\n",
    "countries['conversion, %'] = round(countries['paying_users'] / countries['all_users'] * 100, 2)\n",
    "countries['share_of_paying_users, %'] = round(countries['paying_users'] / countries['paying_users'].sum()  * 100, 2)\n",
    "countries = countries.sort_values(by='paying_users', ascending=False)\n",
    "countries"
   ]
  },
  {
   "cell_type": "markdown",
   "id": "a51cba9e",
   "metadata": {},
   "source": [
    "Больше всего платящих пользователей в США, 77.72% от всех платящих.<br>\n",
    "Конверсия посетителей в покупателей также самая высокая в США, 6.90%."
   ]
  },
  {
   "cell_type": "markdown",
   "id": "12236502",
   "metadata": {},
   "source": [
    "### Пользователи по устройствам"
   ]
  },
  {
   "cell_type": "code",
   "execution_count": 25,
   "id": "c345d960",
   "metadata": {
    "code_folding": [
     0
    ]
   },
   "outputs": [
    {
     "data": {
      "image/png": "[encoded data removed]",
      "text/plain": [
       "<Figure size 576x288 with 2 Axes>"
      ]
     },
     "metadata": {
      "needs_background": "light"
     },
     "output_type": "display_data"
    }
   ],
   "source": [
    "# Платящие пользователи по устройствам\n",
    "plt.figure(figsize=(8, 4))\n",
    "\n",
    "ax1 = plt.subplot(1, 2, 1)\n",
    "(\n",
    "    profiles\n",
    "    .groupby('device').agg({'user_id' :'count'})\n",
    "    .sort_values(by='user_id', ascending=False)\n",
    "    .rename(columns={'user_id': 'paying_users'})\n",
    "    .plot(kind='bar', grid=True, legend=False, ax=ax1)\n",
    ")\n",
    "plt.title('Устройства пользователей')\n",
    "plt.ylabel('Число пользователей')\n",
    "plt.xlabel('')\n",
    "plt.xticks(rotation = 0)\n",
    "\n",
    "ax2 = plt.subplot(1, 2, 2, sharey = ax1)\n",
    "(\n",
    "     profiles.query('payer == True')\n",
    "    .groupby('device').agg({'user_id' :'count'})\n",
    "    .sort_values(by='user_id', ascending=False)\n",
    "    .rename(columns={'user_id': 'paying_users'})\n",
    "    .plot(kind='bar', grid=True, legend=False, ax=ax2)\n",
    ")\n",
    "plt.title('Устройства платящих пользователей')\n",
    "plt.ylabel('Число пользователей')\n",
    "plt.xlabel('')\n",
    "plt.xticks(rotation = 0)\n",
    "\n",
    "plt.tight_layout()\n",
    "plt.show()"
   ]
  },
  {
   "cell_type": "code",
   "execution_count": 26,
   "id": "019b1451",
   "metadata": {
    "code_folding": [
     0
    ]
   },
   "outputs": [
    {
     "data": {
      "text/html": [
       "<div>\n",
       "<style scoped>\n",
       "    .dataframe tbody tr th:only-of-type {\n",
       "        vertical-align: middle;\n",
       "    }\n",
       "\n",
       "    .dataframe tbody tr th {\n",
       "        vertical-align: top;\n",
       "    }\n",
       "\n",
       "    .dataframe thead th {\n",
       "        text-align: right;\n",
       "    }\n",
       "</style>\n",
       "<table border=\"1\" class=\"dataframe\">\n",
       "  <thead>\n",
       "    <tr style=\"text-align: right;\">\n",
       "      <th></th>\n",
       "      <th>all_users</th>\n",
       "      <th>paying_users</th>\n",
       "      <th>conversion, %</th>\n",
       "      <th>share_of_paying_users, %</th>\n",
       "    </tr>\n",
       "    <tr>\n",
       "      <th>device</th>\n",
       "      <th></th>\n",
       "      <th></th>\n",
       "      <th></th>\n",
       "      <th></th>\n",
       "    </tr>\n",
       "  </thead>\n",
       "  <tbody>\n",
       "    <tr>\n",
       "      <td>iPhone</td>\n",
       "      <td>54479</td>\n",
       "      <td>3382</td>\n",
       "      <td>6.21</td>\n",
       "      <td>38.08</td>\n",
       "    </tr>\n",
       "    <tr>\n",
       "      <td>Android</td>\n",
       "      <td>35032</td>\n",
       "      <td>2050</td>\n",
       "      <td>5.85</td>\n",
       "      <td>23.08</td>\n",
       "    </tr>\n",
       "    <tr>\n",
       "      <td>Mac</td>\n",
       "      <td>30042</td>\n",
       "      <td>1912</td>\n",
       "      <td>6.36</td>\n",
       "      <td>21.53</td>\n",
       "    </tr>\n",
       "    <tr>\n",
       "      <td>PC</td>\n",
       "      <td>30455</td>\n",
       "      <td>1537</td>\n",
       "      <td>5.05</td>\n",
       "      <td>17.31</td>\n",
       "    </tr>\n",
       "  </tbody>\n",
       "</table>\n",
       "</div>"
      ],
      "text/plain": [
       "         all_users  paying_users  conversion, %  share_of_paying_users, %\n",
       "device                                                                   \n",
       "iPhone       54479          3382           6.21                     38.08\n",
       "Android      35032          2050           5.85                     23.08\n",
       "Mac          30042          1912           6.36                     21.53\n",
       "PC           30455          1537           5.05                     17.31"
      ]
     },
     "execution_count": 26,
     "metadata": {},
     "output_type": "execute_result"
    }
   ],
   "source": [
    "# доля платящих пользователей\n",
    "devices = (\n",
    "    profiles.groupby('device').agg({'user_id': 'count'})\n",
    "    .merge(\n",
    "        profiles.query('payer == True').groupby('device').agg({'user_id': 'count'}),\n",
    "        on='device',\n",
    "        how='left'\n",
    "    )\n",
    ")\n",
    "devices.columns=['all_users', 'paying_users']\n",
    "devices['conversion, %'] = round(devices['paying_users'] / devices['all_users'] * 100, 2)\n",
    "devices['share_of_paying_users, %'] = round(devices['paying_users'] / devices['paying_users'].sum()  * 100, 2)\n",
    "devices = devices.sort_values(by='paying_users', ascending=False)\n",
    "devices"
   ]
  },
  {
   "cell_type": "markdown",
   "id": "58b2830e",
   "metadata": {},
   "source": [
    "Больше всего платящих пользователей с iPhone.<br>\n",
    "Конверсия в покупателей у яблочной экосистемы выше, чем у PC + Android."
   ]
  },
  {
   "cell_type": "markdown",
   "id": "ab465576",
   "metadata": {},
   "source": [
    "### Каналы"
   ]
  },
  {
   "cell_type": "code",
   "execution_count": 27,
   "id": "04cb41e6",
   "metadata": {
    "code_folding": [
     0
    ]
   },
   "outputs": [
    {
     "data": {
      "image/png": "[encoded data removed]",
      "text/plain": [
       "<Figure size 1440x576 with 2 Axes>"
      ]
     },
     "metadata": {
      "needs_background": "light"
     },
     "output_type": "display_data"
    }
   ],
   "source": [
    "# Каналы привлечения пользователей\n",
    "plt.figure(figsize=(20, 8))\n",
    "\n",
    "ax1 = plt.subplot(1, 2, 1)\n",
    "(\n",
    "    profiles\n",
    "    .groupby('channel').agg({'user_id' :'count'})\n",
    "    .sort_values(by='user_id', ascending=False)\n",
    "    .rename(columns={'user_id': 'paying_users'})\n",
    "    .plot(kind='bar', grid=True, legend=False, ax=ax1)\n",
    ")\n",
    "plt.title('Каналы привлечения пользователей')\n",
    "plt.ylabel('Число пользователей')\n",
    "plt.xlabel('')\n",
    "plt.xticks(rotation = 45)\n",
    "\n",
    "ax2 = plt.subplot(1, 2, 2, sharey = ax1)\n",
    "(\n",
    "     profiles.query('payer == True')\n",
    "    .groupby('channel').agg({'user_id' :'count'})\n",
    "    .sort_values(by='user_id', ascending=False)\n",
    "    .rename(columns={'user_id': 'paying_users'})\n",
    "    .plot(kind='bar', grid=True, legend=False, ax=ax2)\n",
    ")\n",
    "plt.title('Каналы привлечения платящих пользователей')\n",
    "plt.ylabel('Число пользователей')\n",
    "plt.xlabel('')\n",
    "plt.xticks(rotation = 45)\n",
    "\n",
    "plt.tight_layout()\n",
    "plt.show()"
   ]
  },
  {
   "cell_type": "code",
   "execution_count": 28,
   "id": "07f2699a",
   "metadata": {
    "code_folding": [
     0
    ]
   },
   "outputs": [
    {
     "data": {
      "text/html": [
       "<div>\n",
       "<style scoped>\n",
       "    .dataframe tbody tr th:only-of-type {\n",
       "        vertical-align: middle;\n",
       "    }\n",
       "\n",
       "    .dataframe tbody tr th {\n",
       "        vertical-align: top;\n",
       "    }\n",
       "\n",
       "    .dataframe thead th {\n",
       "        text-align: right;\n",
       "    }\n",
       "</style>\n",
       "<table border=\"1\" class=\"dataframe\">\n",
       "  <thead>\n",
       "    <tr style=\"text-align: right;\">\n",
       "      <th></th>\n",
       "      <th>all_users</th>\n",
       "      <th>paying_users</th>\n",
       "      <th>conversion, %</th>\n",
       "      <th>share_of_paying_users, %</th>\n",
       "    </tr>\n",
       "    <tr>\n",
       "      <th>channel</th>\n",
       "      <th></th>\n",
       "      <th></th>\n",
       "      <th></th>\n",
       "      <th></th>\n",
       "    </tr>\n",
       "  </thead>\n",
       "  <tbody>\n",
       "    <tr>\n",
       "      <td>FaceBoom</td>\n",
       "      <td>29144</td>\n",
       "      <td>3557</td>\n",
       "      <td>12.20</td>\n",
       "      <td>40.05</td>\n",
       "    </tr>\n",
       "    <tr>\n",
       "      <td>TipTop</td>\n",
       "      <td>19561</td>\n",
       "      <td>1878</td>\n",
       "      <td>9.60</td>\n",
       "      <td>21.15</td>\n",
       "    </tr>\n",
       "    <tr>\n",
       "      <td>organic</td>\n",
       "      <td>56439</td>\n",
       "      <td>1160</td>\n",
       "      <td>2.06</td>\n",
       "      <td>13.06</td>\n",
       "    </tr>\n",
       "    <tr>\n",
       "      <td>WahooNetBanner</td>\n",
       "      <td>8553</td>\n",
       "      <td>453</td>\n",
       "      <td>5.30</td>\n",
       "      <td>5.10</td>\n",
       "    </tr>\n",
       "    <tr>\n",
       "      <td>AdNonSense</td>\n",
       "      <td>3880</td>\n",
       "      <td>440</td>\n",
       "      <td>11.34</td>\n",
       "      <td>4.95</td>\n",
       "    </tr>\n",
       "    <tr>\n",
       "      <td>RocketSuperAds</td>\n",
       "      <td>4448</td>\n",
       "      <td>352</td>\n",
       "      <td>7.91</td>\n",
       "      <td>3.96</td>\n",
       "    </tr>\n",
       "    <tr>\n",
       "      <td>LeapBob</td>\n",
       "      <td>8553</td>\n",
       "      <td>262</td>\n",
       "      <td>3.06</td>\n",
       "      <td>2.95</td>\n",
       "    </tr>\n",
       "    <tr>\n",
       "      <td>OppleCreativeMedia</td>\n",
       "      <td>8605</td>\n",
       "      <td>233</td>\n",
       "      <td>2.71</td>\n",
       "      <td>2.62</td>\n",
       "    </tr>\n",
       "    <tr>\n",
       "      <td>lambdaMediaAds</td>\n",
       "      <td>2149</td>\n",
       "      <td>225</td>\n",
       "      <td>10.47</td>\n",
       "      <td>2.53</td>\n",
       "    </tr>\n",
       "    <tr>\n",
       "      <td>YRabbit</td>\n",
       "      <td>4312</td>\n",
       "      <td>165</td>\n",
       "      <td>3.83</td>\n",
       "      <td>1.86</td>\n",
       "    </tr>\n",
       "    <tr>\n",
       "      <td>MediaTornado</td>\n",
       "      <td>4364</td>\n",
       "      <td>156</td>\n",
       "      <td>3.57</td>\n",
       "      <td>1.76</td>\n",
       "    </tr>\n",
       "  </tbody>\n",
       "</table>\n",
       "</div>"
      ],
      "text/plain": [
       "                    all_users  paying_users  conversion, %  \\\n",
       "channel                                                      \n",
       "FaceBoom                29144          3557          12.20   \n",
       "TipTop                  19561          1878           9.60   \n",
       "organic                 56439          1160           2.06   \n",
       "WahooNetBanner           8553           453           5.30   \n",
       "AdNonSense               3880           440          11.34   \n",
       "RocketSuperAds           4448           352           7.91   \n",
       "LeapBob                  8553           262           3.06   \n",
       "OppleCreativeMedia       8605           233           2.71   \n",
       "lambdaMediaAds           2149           225          10.47   \n",
       "YRabbit                  4312           165           3.83   \n",
       "MediaTornado             4364           156           3.57   \n",
       "\n",
       "                    share_of_paying_users, %  \n",
       "channel                                       \n",
       "FaceBoom                               40.05  \n",
       "TipTop                                 21.15  \n",
       "organic                                13.06  \n",
       "WahooNetBanner                          5.10  \n",
       "AdNonSense                              4.95  \n",
       "RocketSuperAds                          3.96  \n",
       "LeapBob                                 2.95  \n",
       "OppleCreativeMedia                      2.62  \n",
       "lambdaMediaAds                          2.53  \n",
       "YRabbit                                 1.86  \n",
       "MediaTornado                            1.76  "
      ]
     },
     "execution_count": 28,
     "metadata": {},
     "output_type": "execute_result"
    }
   ],
   "source": [
    "# доля платящих пользователей по каналам\n",
    "channels = (\n",
    "    profiles.groupby('channel').agg({'user_id': 'count'})\n",
    "    .merge(\n",
    "        profiles.query('payer == True').groupby('channel').agg({'user_id': 'count'}),\n",
    "        on='channel',\n",
    "        how='left'\n",
    "    )\n",
    ")\n",
    "channels.columns=['all_users', 'paying_users']\n",
    "channels['conversion, %'] = round(channels['paying_users'] / channels['all_users'] * 100, 2)\n",
    "channels['share_of_paying_users, %'] = round(channels['paying_users'] / channels['paying_users'].sum()  * 100, 2)\n",
    "channels = channels.sort_values(by='paying_users', ascending=False)\n",
    "channels"
   ]
  },
  {
   "cell_type": "markdown",
   "id": "9daee582",
   "metadata": {},
   "source": [
    "`FaceBoom` и `TipTop` работают круто. Трафик от этих каналов сопоставим с органикой по всем регионам.<br>\n",
    "Посмотрим подробнее."
   ]
  },
  {
   "cell_type": "code",
   "execution_count": 29,
   "id": "28faaa6a",
   "metadata": {
    "code_folding": [
     0
    ]
   },
   "outputs": [
    {
     "data": {
      "image/png": "[encoded data removed]",
      "text/plain": [
       "<Figure size 1440x576 with 4 Axes>"
      ]
     },
     "metadata": {
      "needs_background": "light"
     },
     "output_type": "display_data"
    }
   ],
   "source": [
    "# каналы привлечения платящих пользователей по странам\n",
    "plt.figure(figsize=(20,8))\n",
    "plt.suptitle('Каналы привлечения платящих пользователей по странам')\n",
    "for i, reg in enumerate(list(countries.index)):\n",
    "    (\n",
    "        # выбираем из профилей платящих пользователей из одного региона\n",
    "        profiles.query('payer == True and region == @reg') \n",
    "        .groupby('channel').agg({'user_id' :'count'})\n",
    "        .sort_values(by='user_id', ascending=False)\n",
    "        .rename(columns={'user_id': 'paying_users'})\n",
    "        .plot(kind='bar', grid=True, legend=False, ax=plt.subplot(1, 4, i + 1))\n",
    "    )\n",
    "    plt.title('{}'.format(reg))\n",
    "    plt.xlabel('')\n",
    "    plt.xticks(rotation = 90)\n",
    "\n",
    "plt.show()"
   ]
  },
  {
   "cell_type": "markdown",
   "id": "3be381b6",
   "metadata": {},
   "source": [
    "Из графиков видно, что на рынках Европы лучшие каналы — `WahooNetBanner` и `AdNonSense`."
   ]
  },
  {
   "cell_type": "markdown",
   "id": "7bf903b8",
   "metadata": {},
   "source": [
    "### Вывод по разделу"
   ]
  },
  {
   "cell_type": "markdown",
   "id": "66521b77",
   "metadata": {},
   "source": [
    "Лучше всего платят пользователи из `США`.<br>\n",
    "По платформам самые прибыльные `iPhone` для мобильных, `Mac` для стационарных. \n",
    "\n",
    "Лучшие каналы Европы — `WahooNetBanner` и `AdNonSense`. <br>\n",
    "Лучшие каналы в США — `FaceBoom` и `TipTop`.<br>\n",
    "`FaceBoom` подозрительно хорош."
   ]
  },
  {
   "cell_type": "markdown",
   "id": "b94ee2ef",
   "metadata": {},
   "source": [
    "## Маркетинг"
   ]
  },
  {
   "cell_type": "markdown",
   "id": "341f1f69",
   "metadata": {},
   "source": [
    "### Расходы на маркетинг"
   ]
  },
  {
   "cell_type": "code",
   "execution_count": 30,
   "id": "6bfaa761",
   "metadata": {
    "code_folding": [
     0
    ]
   },
   "outputs": [
    {
     "name": "stdout",
     "output_type": "stream",
     "text": [
      "Общая сумма расходов на маркетинг: 105497.\n"
     ]
    }
   ],
   "source": [
    "# общая сумма расходов на маркетинг\n",
    "print('Общая сумма расходов на маркетинг: {}.'.format(profiles['acquisition_cost'].sum().astype(int)))"
   ]
  },
  {
   "cell_type": "code",
   "execution_count": 31,
   "id": "2fb2f8dc",
   "metadata": {
    "code_folding": [
     0
    ],
    "scrolled": true
   },
   "outputs": [
    {
     "data": {
      "text/html": [
       "<div>\n",
       "<style scoped>\n",
       "    .dataframe tbody tr th:only-of-type {\n",
       "        vertical-align: middle;\n",
       "    }\n",
       "\n",
       "    .dataframe tbody tr th {\n",
       "        vertical-align: top;\n",
       "    }\n",
       "\n",
       "    .dataframe thead th {\n",
       "        text-align: right;\n",
       "    }\n",
       "</style>\n",
       "<table border=\"1\" class=\"dataframe\">\n",
       "  <thead>\n",
       "    <tr style=\"text-align: right;\">\n",
       "      <th></th>\n",
       "      <th>marketing_costs</th>\n",
       "    </tr>\n",
       "    <tr>\n",
       "      <th>region</th>\n",
       "      <th></th>\n",
       "    </tr>\n",
       "  </thead>\n",
       "  <tbody>\n",
       "    <tr>\n",
       "      <td>United States</td>\n",
       "      <td>90928</td>\n",
       "    </tr>\n",
       "    <tr>\n",
       "      <td>France</td>\n",
       "      <td>5075</td>\n",
       "    </tr>\n",
       "    <tr>\n",
       "      <td>UK</td>\n",
       "      <td>5068</td>\n",
       "    </tr>\n",
       "    <tr>\n",
       "      <td>Germany</td>\n",
       "      <td>4424</td>\n",
       "    </tr>\n",
       "  </tbody>\n",
       "</table>\n",
       "</div>"
      ],
      "text/plain": [
       "               marketing_costs\n",
       "region                        \n",
       "United States            90928\n",
       "France                    5075\n",
       "UK                        5068\n",
       "Germany                   4424"
      ]
     },
     "execution_count": 31,
     "metadata": {},
     "output_type": "execute_result"
    }
   ],
   "source": [
    "# расходы на маркетинг по странам\n",
    "mcosts = (\n",
    "    profiles.groupby('region')\n",
    "    .agg({\n",
    "        'acquisition_cost': 'sum'\n",
    "    })\n",
    "    .rename(columns={\n",
    "        'acquisition_cost': 'marketing_costs'\n",
    "    })\n",
    "    .sort_values(by='marketing_costs', ascending=False)\n",
    ")\n",
    "mcosts['marketing_costs'] = mcosts['marketing_costs'].astype(int)\n",
    "mcosts"
   ]
  },
  {
   "cell_type": "markdown",
   "id": "26a212fe",
   "metadata": {},
   "source": [
    "Расходы по странам распределены так же, как и число пользователей."
   ]
  },
  {
   "cell_type": "code",
   "execution_count": 32,
   "id": "aa0a8c3e",
   "metadata": {
    "code_folding": [
     0
    ]
   },
   "outputs": [
    {
     "data": {
      "text/html": [
       "<div>\n",
       "<style scoped>\n",
       "    .dataframe tbody tr th:only-of-type {\n",
       "        vertical-align: middle;\n",
       "    }\n",
       "\n",
       "    .dataframe tbody tr th {\n",
       "        vertical-align: top;\n",
       "    }\n",
       "\n",
       "    .dataframe thead th {\n",
       "        text-align: right;\n",
       "    }\n",
       "</style>\n",
       "<table border=\"1\" class=\"dataframe\">\n",
       "  <thead>\n",
       "    <tr style=\"text-align: right;\">\n",
       "      <th></th>\n",
       "      <th>marketing_costs</th>\n",
       "    </tr>\n",
       "    <tr>\n",
       "      <th>channel</th>\n",
       "      <th></th>\n",
       "    </tr>\n",
       "  </thead>\n",
       "  <tbody>\n",
       "    <tr>\n",
       "      <td>TipTop</td>\n",
       "      <td>54751</td>\n",
       "    </tr>\n",
       "    <tr>\n",
       "      <td>FaceBoom</td>\n",
       "      <td>32445</td>\n",
       "    </tr>\n",
       "    <tr>\n",
       "      <td>WahooNetBanner</td>\n",
       "      <td>5151</td>\n",
       "    </tr>\n",
       "    <tr>\n",
       "      <td>AdNonSense</td>\n",
       "      <td>3911</td>\n",
       "    </tr>\n",
       "    <tr>\n",
       "      <td>OppleCreativeMedia</td>\n",
       "      <td>2151</td>\n",
       "    </tr>\n",
       "    <tr>\n",
       "      <td>RocketSuperAds</td>\n",
       "      <td>1833</td>\n",
       "    </tr>\n",
       "    <tr>\n",
       "      <td>LeapBob</td>\n",
       "      <td>1797</td>\n",
       "    </tr>\n",
       "    <tr>\n",
       "      <td>lambdaMediaAds</td>\n",
       "      <td>1557</td>\n",
       "    </tr>\n",
       "    <tr>\n",
       "      <td>MediaTornado</td>\n",
       "      <td>954</td>\n",
       "    </tr>\n",
       "    <tr>\n",
       "      <td>YRabbit</td>\n",
       "      <td>944</td>\n",
       "    </tr>\n",
       "    <tr>\n",
       "      <td>organic</td>\n",
       "      <td>0</td>\n",
       "    </tr>\n",
       "  </tbody>\n",
       "</table>\n",
       "</div>"
      ],
      "text/plain": [
       "                    marketing_costs\n",
       "channel                            \n",
       "TipTop                        54751\n",
       "FaceBoom                      32445\n",
       "WahooNetBanner                 5151\n",
       "AdNonSense                     3911\n",
       "OppleCreativeMedia             2151\n",
       "RocketSuperAds                 1833\n",
       "LeapBob                        1797\n",
       "lambdaMediaAds                 1557\n",
       "MediaTornado                    954\n",
       "YRabbit                         944\n",
       "organic                           0"
      ]
     },
     "execution_count": 32,
     "metadata": {},
     "output_type": "execute_result"
    }
   ],
   "source": [
    "# расходы на маркетинг по каналам\n",
    "mcosts = (\n",
    "    profiles.groupby('channel')\n",
    "    .agg({\n",
    "        'acquisition_cost': 'sum'\n",
    "    })\n",
    "    .rename(columns={\n",
    "        'acquisition_cost': 'marketing_costs'\n",
    "    })\n",
    "    .sort_values(by='marketing_costs', ascending=False)\n",
    ")\n",
    "mcosts['marketing_costs'] = mcosts['marketing_costs'].astype(int)\n",
    "mcosts"
   ]
  },
  {
   "cell_type": "markdown",
   "id": "dc05b67e",
   "metadata": {},
   "source": [
    "Расходы на маркетинг по каналам тоже не отличаются от числа привлечённых пользователей.<br>\n",
    "Впереди те же компании: `TipTop`, `FaceBoom`, `WahooNetBanner`, `AdNonSense`.<br>"
   ]
  },
  {
   "cell_type": "markdown",
   "id": "f0d4a7ff",
   "metadata": {},
   "source": [
    "### CAC по каналу"
   ]
  },
  {
   "cell_type": "code",
   "execution_count": 33,
   "id": "6d23834d",
   "metadata": {
    "code_folding": [],
    "scrolled": true
   },
   "outputs": [
    {
     "name": "stdout",
     "output_type": "stream",
     "text": [
      "Расходы на привлечение одного пользователя по всему проекту: 0.7\n"
     ]
    }
   ],
   "source": [
    "# Расходы на привлечение одного пользователя\n",
    "cac_all = (\n",
    "    round(profiles['acquisition_cost'].mean(), 2)\n",
    ")\n",
    "print(f'Расходы на привлечение одного пользователя по всему проекту: {cac_all}')"
   ]
  },
  {
   "cell_type": "code",
   "execution_count": 34,
   "id": "1e864ff8",
   "metadata": {
    "code_folding": [
     0
    ]
   },
   "outputs": [
    {
     "name": "stdout",
     "output_type": "stream",
     "text": [
      "Расходы на привлечение одного пользователя по всему проекту, без органики: 1.13\n"
     ]
    }
   ],
   "source": [
    "# Расходы на привлечение одного пользователя\n",
    "# Органически привлечённые пользователи исключены из выборки\n",
    "cac_no_org = (\n",
    "    round(profiles.query('channel != \"organic\"')['acquisition_cost'].mean(), 2)\n",
    ")\n",
    "print(f'Расходы на привлечение одного пользователя по всему проекту, без органики: {cac_no_org}')"
   ]
  },
  {
   "cell_type": "code",
   "execution_count": 35,
   "id": "8202e637",
   "metadata": {},
   "outputs": [
    {
     "ename": "SyntaxError",
     "evalue": "invalid syntax (3993092607.py, line 1)",
     "output_type": "error",
     "traceback": [
      "\u001b[1;36m  File \u001b[1;32m\"C:\\Users\\Vladislav Sinelnikov\\AppData\\Local\\Temp\\ipykernel_3708\\3993092607.py\"\u001b[1;36m, line \u001b[1;32m1\u001b[0m\n\u001b[1;33m    <a id='cac_per_channel'></a>\u001b[0m\n\u001b[1;37m    ^\u001b[0m\n\u001b[1;31mSyntaxError\u001b[0m\u001b[1;31m:\u001b[0m invalid syntax\n"
     ]
    }
   ],
   "source": [
    "<a id='cac_per_channel'></a>"
   ]
  },
  {
   "cell_type": "code",
   "execution_count": null,
   "id": "118518f5",
   "metadata": {
    "code_folding": [
     0
    ],
    "scrolled": true
   },
   "outputs": [],
   "source": [
    "# Расходы на привлечение одного пользователя по каналу\n",
    "(\n",
    "    profiles.groupby('channel')\n",
    "    .agg({'acquisition_cost': 'mean'})\n",
    "    .rename(columns={'acquisition_cost': 'cac'})\n",
    "    .sort_values(by='cac', ascending=False)\n",
    ")"
   ]
  },
  {
   "cell_type": "code",
   "execution_count": null,
   "id": "a42687d4",
   "metadata": {
    "code_folding": [
     0
    ]
   },
   "outputs": [],
   "source": [
    "# Расходы на привлечение одного пользователя по каналу\n",
    "(\n",
    "    profiles.groupby('channel')\n",
    "    .agg({'acquisition_cost': 'mean'})\n",
    "    .rename(columns={'acquisition_cost': 'cac'})\n",
    "    .sort_values(by='cac', ascending=False)\n",
    "    .plot(kind='bar', grid=True, legend=False)\n",
    ")\n",
    "plt.show()"
   ]
  },
  {
   "cell_type": "markdown",
   "id": "743a8019",
   "metadata": {},
   "source": [
    "### Вывод по разделу"
   ]
  },
  {
   "cell_type": "markdown",
   "id": "6aecd8a6",
   "metadata": {},
   "source": [
    "Самая высокая стоимость привлечения пользователей у `TipTop`.<br>\n",
    "При этом конверсия в покупателей и процент платящих пользователей в топе лучших.<br>\n",
    "На данном этапе можно предположить, что средний чек у аудитории TipTop сильно ниже среднего чека аудитории остальных каналов привлечения пользователей."
   ]
  },
  {
   "cell_type": "markdown",
   "id": "e9c0ff07",
   "metadata": {},
   "source": [
    "## Оценка окупаемости"
   ]
  },
  {
   "cell_type": "markdown",
   "id": "0ab967cf",
   "metadata": {},
   "source": [
    "### Окупаемость рекламы"
   ]
  },
  {
   "cell_type": "markdown",
   "id": "9d0539a9",
   "metadata": {},
   "source": [
    "#### Окупаемость без разбивки"
   ]
  },
  {
   "cell_type": "markdown",
   "id": "220a49f9",
   "metadata": {},
   "source": [
    "Согласно условию установим момент анализа 01 ноября 2019 года с горизонтом в 14 дней.<br>\n",
    "Органику исключим из рассмотрения, т.к. точно не определить влияние вложений в остальные каналы на привлечение через органику.<br>\n",
    "Но помним, что оптимизацией поисковой выдачи тоже занимается маркетинг."
   ]
  },
  {
   "cell_type": "markdown",
   "id": "742394b4",
   "metadata": {},
   "source": [
    "<a id='roi_for_all'></a>"
   ]
  },
  {
   "cell_type": "code",
   "execution_count": null,
   "id": "41ec156c",
   "metadata": {
    "code_folding": []
   },
   "outputs": [],
   "source": [
    "# момент анализа\n",
    "observation_date = datetime(2019, 11, 1).date()\n",
    "\n",
    "# горизонт анализа\n",
    "horizon_days = 14\n",
    "\n",
    "# исключаем органику из анализа\n",
    "profiles_no_org = profiles.query('channel != \"organic\"')\n",
    "\n",
    "ltv_raw, ltv_grouped, ltv_history, roi_grouped, roi_history = get_ltv(\n",
    "    profiles_no_org,\n",
    "    orders,\n",
    "    observation_date,\n",
    "    horizon_days\n",
    ")\n",
    "plot_ltv_roi(ltv_grouped, ltv_history, roi_grouped, roi_history, horizon_days)"
   ]
  },
  {
   "cell_type": "markdown",
   "id": "a997d64a",
   "metadata": {},
   "source": [
    "По графикам можно сказать следующее:<br>\n",
    "- средний LTV к 14 дню порядка 0.9$;\n",
    "- LTV колеблется с периодичностью в месяц;\n",
    "- затраты на не окупаются, ROI около 80%;\n",
    "- стоимость привлечения пользователей равномерно растёт."
   ]
  },
  {
   "cell_type": "markdown",
   "id": "bb59aa01",
   "metadata": {},
   "source": [
    "#### Окупаемость рекламы с разбивкой по странам"
   ]
  },
  {
   "cell_type": "markdown",
   "id": "582fa1c1",
   "metadata": {},
   "source": [
    "<a id='roi_countries'></a>"
   ]
  },
  {
   "cell_type": "code",
   "execution_count": null,
   "id": "bae57e7c",
   "metadata": {
    "code_folding": [
     0
    ]
   },
   "outputs": [],
   "source": [
    "# разбивка по странам\n",
    "dimensions = ['region']\n",
    "\n",
    "ltv_raw, ltv_grouped, ltv_history, roi_grouped, roi_history = get_ltv(\n",
    "    profiles_no_org, orders, observation_date, horizon_days, dimensions=dimensions\n",
    ")\n",
    "\n",
    "plot_ltv_roi(\n",
    "    ltv_grouped, ltv_history, roi_grouped, roi_history, horizon_days, window=14\n",
    ") "
   ]
  },
  {
   "cell_type": "markdown",
   "id": "3eeec11c",
   "metadata": {},
   "source": [
    "Промежуточные выводы:<br>\n",
    "- больше всего денег выручается в США;\n",
    "- стоимость привлечения пользователей в США повышается с июня, когда в остальных странах падает с этого же месяца;\n",
    "- реклама не окупается в США."
   ]
  },
  {
   "cell_type": "markdown",
   "id": "aed09062",
   "metadata": {},
   "source": [
    "#### Окупаемость рекламы с разбивкой по каналам"
   ]
  },
  {
   "cell_type": "markdown",
   "id": "9bf35d43",
   "metadata": {},
   "source": [
    "<a id='roi_channels'></a>"
   ]
  },
  {
   "cell_type": "code",
   "execution_count": null,
   "id": "78f12a9e",
   "metadata": {
    "code_folding": [],
    "scrolled": false
   },
   "outputs": [],
   "source": [
    "# разбивка по каналам\n",
    "dimensions = ['channel']\n",
    "\n",
    "ltv_raw, ltv_grouped, ltv_history, roi_grouped, roi_history = get_ltv(\n",
    "    profiles_no_org, orders, observation_date, horizon_days, dimensions=dimensions\n",
    ")\n",
    "\n",
    "plot_ltv_roi(\n",
    "    ltv_grouped, ltv_history, roi_grouped, roi_history, horizon_days, window=14\n",
    ") "
   ]
  },
  {
   "cell_type": "markdown",
   "id": "0881125f",
   "metadata": {},
   "source": [
    "Промежуточные выводы:<br>\n",
    "- стоимость привлечения пользователей `TipTop` резко возрастает с июня;<br>\n",
    "- стоимость привлечения пользователей по остальным каналам постоянна;<br>\n",
    "- не окупаются `FaceBoom`, `TipTop` и `AdNonSense`."
   ]
  },
  {
   "cell_type": "markdown",
   "id": "fcb84e34",
   "metadata": {},
   "source": [
    "#### Окупаемость рекламы с разбивкой по устройствам"
   ]
  },
  {
   "cell_type": "markdown",
   "id": "5992bde0",
   "metadata": {},
   "source": [
    "<a id='devices'></a>"
   ]
  },
  {
   "cell_type": "code",
   "execution_count": null,
   "id": "163ee161",
   "metadata": {
    "code_folding": [
     0
    ],
    "scrolled": false
   },
   "outputs": [],
   "source": [
    "# разбивка по устройствам\n",
    "dimensions = ['device']\n",
    "\n",
    "ltv_raw, ltv_grouped, ltv_history, roi_grouped, roi_history = get_ltv(\n",
    "    profiles_no_org, orders, observation_date, horizon_days, dimensions=dimensions\n",
    ")\n",
    "\n",
    "plot_ltv_roi(\n",
    "    ltv_grouped, ltv_history, roi_grouped, roi_history, horizon_days, window=14\n",
    ") "
   ]
  },
  {
   "cell_type": "markdown",
   "id": "dd1852b6",
   "metadata": {},
   "source": [
    "Промежуточные выводы:<br>\n",
    "- привлечение пользователей для экосистемы apple сомое дорогое и растёт с июня сильнее других устройств;<br>\n",
    "- окупается реклама для PC;<br>\n",
    "- окупаемость по всем устройствам снижается."
   ]
  },
  {
   "cell_type": "markdown",
   "id": "1ebd5607",
   "metadata": {},
   "source": [
    "### Конверсия и удержание"
   ]
  },
  {
   "cell_type": "markdown",
   "id": "c1590162",
   "metadata": {},
   "source": [
    "Далее построим графики конверсии и удержания с разбивкой по устройствам, странам, рекламным каналам.<br>\n",
    "И ответим на вопросы:<br>\n",
    "- Окупается ли реклама в целом?<br>\n",
    "- Какие устройства, страны и каналы могут снижать окупаемость рекламы?<br>\n",
    "- Чем могут быть вызваны проблемы окупаемости?<br>"
   ]
  },
  {
   "cell_type": "markdown",
   "id": "1e9d6228",
   "metadata": {},
   "source": [
    "#### Конверсия и удержание с разбивкой по странам"
   ]
  },
  {
   "cell_type": "code",
   "execution_count": null,
   "id": "27389bda",
   "metadata": {
    "code_folding": [
     0
    ],
    "scrolled": true
   },
   "outputs": [],
   "source": [
    "# Конверсия с разбивкой по странам\n",
    "dimensions = ['region']\n",
    "\n",
    "conversion_raw, conversion_grouped, conversion_history = get_conversion(\n",
    "    profiles_no_org, orders, observation_date, horizon_days, dimensions=dimensions\n",
    ")\n",
    "\n",
    "plot_conversion(conversion_grouped, conversion_history, horizon_days) "
   ]
  },
  {
   "cell_type": "code",
   "execution_count": null,
   "id": "94d0f3b4",
   "metadata": {
    "code_folding": [
     0
    ]
   },
   "outputs": [],
   "source": [
    "# Удержание с разбивкой по странам\n",
    "retention_raw, retention_grouped, retention_history = get_retention(\n",
    "    profiles_no_org, visits, observation_date, horizon_days, dimensions=dimensions\n",
    ")\n",
    "\n",
    "plot_retention(retention_grouped, retention_history, horizon_days)"
   ]
  },
  {
   "cell_type": "markdown",
   "id": "14602cc7",
   "metadata": {},
   "source": [
    "Промежуточные выводы:<br>\n",
    "- лучшая конверсия в США;\n",
    "- удержание платящих пользователей хуже всего в США."
   ]
  },
  {
   "cell_type": "markdown",
   "id": "e8304483",
   "metadata": {},
   "source": [
    "#### Конверсия и удержание с разбивкой по каналам"
   ]
  },
  {
   "cell_type": "code",
   "execution_count": null,
   "id": "09559a25",
   "metadata": {
    "code_folding": [
     0
    ]
   },
   "outputs": [],
   "source": [
    "# Конверсия с разбивкой по каналам\n",
    "dimensions = ['channel']\n",
    "\n",
    "conversion_raw, conversion_grouped, conversion_history = get_conversion(\n",
    "    profiles_no_org, orders, observation_date, horizon_days, dimensions=dimensions\n",
    ")\n",
    "\n",
    "plot_conversion(conversion_grouped, conversion_history, horizon_days) "
   ]
  },
  {
   "cell_type": "code",
   "execution_count": null,
   "id": "f600e6de",
   "metadata": {
    "code_folding": [
     0
    ],
    "scrolled": false
   },
   "outputs": [],
   "source": [
    "# Удержание с разбивкой по каналам\n",
    "retention_raw, retention_grouped, retention_history = get_retention(\n",
    "    profiles_no_org, visits, observation_date, horizon_days, dimensions=dimensions\n",
    ")\n",
    "\n",
    "plot_retention(retention_grouped, retention_history, horizon_days)"
   ]
  },
  {
   "cell_type": "markdown",
   "id": "a6186222",
   "metadata": {},
   "source": [
    "Промежуточные выводы:<br>\n",
    "- худшее удержание у каналов `FaceBoom` и `AdNonSence`, они сильно выбиваются из остальной картины."
   ]
  },
  {
   "cell_type": "markdown",
   "id": "a8e2108d",
   "metadata": {},
   "source": [
    "#### Конверсия и удержание с разбивкой по устройствам"
   ]
  },
  {
   "cell_type": "code",
   "execution_count": null,
   "id": "dc32738a",
   "metadata": {
    "code_folding": []
   },
   "outputs": [],
   "source": [
    "# Конверсия с разбивкой по устройствам\n",
    "dimensions = ['device']\n",
    "\n",
    "conversion_raw, conversion_grouped, conversion_history = get_conversion(\n",
    "    profiles_no_org, orders, observation_date, horizon_days, dimensions=dimensions\n",
    ")\n",
    "\n",
    "plot_conversion(conversion_grouped, conversion_history, horizon_days) "
   ]
  },
  {
   "cell_type": "code",
   "execution_count": null,
   "id": "4a05597e",
   "metadata": {
    "code_folding": [
     0
    ]
   },
   "outputs": [],
   "source": [
    "# Удержание с разбивкой по устройствам\n",
    "retention_raw, retention_grouped, retention_history = get_retention(\n",
    "    profiles_no_org, visits, observation_date, horizon_days, dimensions=dimensions\n",
    ")\n",
    "\n",
    "plot_retention(retention_grouped, retention_history, horizon_days)"
   ]
  },
  {
   "cell_type": "markdown",
   "id": "e49f335d",
   "metadata": {},
   "source": [
    "Промежуточные выводы:<br>\n",
    "- конверсия для всех устройств стабильна, самая низкая конверсия у пользователей PC;<br>\n",
    "- удержание для всех устройств примерно одинаково."
   ]
  },
  {
   "cell_type": "markdown",
   "id": "92bba1e0",
   "metadata": {},
   "source": [
    "### Анализ каналов США"
   ]
  },
  {
   "cell_type": "code",
   "execution_count": null,
   "id": "6bed6803",
   "metadata": {},
   "outputs": [],
   "source": [
    "profiles_usa = profiles_no_org.query('region == \"United States\"')"
   ]
  },
  {
   "cell_type": "code",
   "execution_count": null,
   "id": "89d5d0ad",
   "metadata": {
    "code_folding": [
     0
    ]
   },
   "outputs": [],
   "source": [
    "# разбивка по каналам только для США\n",
    "dimensions = ['channel']\n",
    "\n",
    "ltv_raw, ltv_grouped, ltv_history, roi_grouped, roi_history = get_ltv(\n",
    "    profiles_usa, orders, observation_date, horizon_days, dimensions=dimensions\n",
    ")\n",
    "\n",
    "plot_ltv_roi(\n",
    "    ltv_grouped, ltv_history, roi_grouped, roi_history, horizon_days, window=14\n",
    ") "
   ]
  },
  {
   "cell_type": "code",
   "execution_count": null,
   "id": "38634aad",
   "metadata": {
    "code_folding": [
     0
    ]
   },
   "outputs": [],
   "source": [
    "# Конверсия с разбивкой по каналам\n",
    "dimensions = ['channel']\n",
    "\n",
    "conversion_raw, conversion_grouped, conversion_history = get_conversion(\n",
    "    profiles_usa, orders, observation_date, horizon_days, dimensions=dimensions\n",
    ")\n",
    "\n",
    "plot_conversion(conversion_grouped, conversion_history, horizon_days) "
   ]
  },
  {
   "cell_type": "code",
   "execution_count": null,
   "id": "b2db4f8f",
   "metadata": {
    "code_folding": [
     0
    ]
   },
   "outputs": [],
   "source": [
    "# Удержание с разбивкой по каналам\n",
    "retention_raw, retention_grouped, retention_history = get_retention(\n",
    "    profiles_usa, visits, observation_date, horizon_days, dimensions=dimensions\n",
    ")\n",
    "\n",
    "plot_retention(retention_grouped, retention_history, horizon_days)"
   ]
  },
  {
   "cell_type": "markdown",
   "id": "7ce7901a",
   "metadata": {},
   "source": [
    "Выводы по каналам США:<br>\n",
    "- TipTop\n",
    "    - хорошая конверсия;\n",
    "    - стоимость привлечения пользователей сильно растёт;\n",
    "    - высокий LTV;\n",
    "    - не рентабелен.\n",
    "- FaceBoom\n",
    "    - лучшая конверсия пользователей;\n",
    "    - проблемы с удержанием платящих пользователей;\n",
    "    - не рентабелен.\n",
    "- RocketSuperAds\n",
    "    - 3й по конверсии;\n",
    "    - стоимость привлечения пользователей немного снижается;\n",
    "    - с удержанием платящих пользователей всё хорошо;\n",
    "    - <b>рентабелен</b>.\n"
   ]
  },
  {
   "cell_type": "markdown",
   "id": "f9299cac",
   "metadata": {},
   "source": [
    "### Вывод по разделу"
   ]
  },
  {
   "cell_type": "markdown",
   "id": "8508e1f9",
   "metadata": {},
   "source": [
    "Ответы на поставленные вопросы:<br>\n",
    "- Окупается ли реклама в целом?<br>\n",
    "[Не окупается](#roi_for_all), ROI около 80%.<br>\n",
    "- Какие устройства, страны и каналы могут снижать окупаемость рекламы?<br>\n",
    "Устройства: [iPhone, Mac, Android](#roi_devices), окупается только PC.<br>\n",
    "Каналы: [FaceBoom, TipTop и AdNonSense](#roi_channels).<br>\n",
    "Страны: [США](#roi_countries).<br>\n",
    "- Чем могут быть вызваны проблемы окупаемости?  \n",
    "Вероятнее всего проблемы окупаемости вызваны стоимостью привлечения пользователей.<br>\n",
    "Подробнее: [средние значения](#cac_per_channel) за весть период по каналу, [динамика](#roi_for_all) стоимости привлечения пользователей.<br>\n"
   ]
  },
  {
   "cell_type": "markdown",
   "id": "4c1bff7f",
   "metadata": {},
   "source": [
    "## Общий вывод"
   ]
  },
  {
   "cell_type": "markdown",
   "id": "3dd95b8d",
   "metadata": {},
   "source": [
    "Инвестиции в каналы `FaceBoom`, `TipTop` и `AdNonSense` не рентабельны.<br>\n",
    "\n",
    "Рекомендации для отдела маркетинга.\n",
    "- Проанализировать аудиторию США, платформ `FaceBoom`, `TipTop`.\n",
    "- Перераспределить инвестиции, часть бюджета отдать каналам с платёжеспособной аудиторией (например, оценить средний чек,  число покупок).\n",
    "- На рынке США часть средств стоит перенаправить в `RocketSuperAds`.<br>\n",
    "Это рентабельный канал с отличными конверсией и удержанием платящих пользователей."
   ]
  }
 ],
 "metadata": {
  "kernelspec": {
   "display_name": "Python 3 (ipykernel)",
   "language": "python",
   "name": "python3"
  },
  "language_info": {
   "codemirror_mode": {
    "name": "ipython",
    "version": 3
   },
   "file_extension": ".py",
   "mimetype": "text/x-python",
   "name": "python",
   "nbconvert_exporter": "python",
   "pygments_lexer": "ipython3",
   "version": "3.7.8"
  },
  "toc": {
   "base_numbering": 1,
   "nav_menu": {},
   "number_sections": true,
   "sideBar": true,
   "skip_h1_title": true,
   "title_cell": "Table of Contents",
   "title_sidebar": "Contents",
   "toc_cell": true,
   "toc_position": {
    "height": "calc(100% - 180px)",
    "left": "10px",
    "top": "150px",
    "width": "303.825px"
   },
   "toc_section_display": true,
   "toc_window_display": true
  }
 },
 "nbformat": 4,
 "nbformat_minor": 5
}
